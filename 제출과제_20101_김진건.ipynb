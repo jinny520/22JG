{
  "nbformat": 4,
  "nbformat_minor": 0,
  "metadata": {
    "colab": {
      "name": "제출과제_20101_김진건",
      "provenance": [],
      "collapsed_sections": [],
      "include_colab_link": true
    },
    "kernelspec": {
      "name": "python3",
      "display_name": "Python 3"
    }
  },
  "cells": [
    {
      "cell_type": "markdown",
      "metadata": {
        "id": "view-in-github",
        "colab_type": "text"
      },
      "source": [
        "<a href=\"https://colab.research.google.com/github/jinny520/22JG/blob/main/%EC%A0%9C%EC%B6%9C%EA%B3%BC%EC%A0%9C_20101_%EA%B9%80%EC%A7%84%EA%B1%B4.ipynb\" target=\"_parent\"><img src=\"https://colab.research.google.com/assets/colab-badge.svg\" alt=\"Open In Colab\"/></a>"
      ]
    },
    {
      "cell_type": "markdown",
      "source": [
        "# 변수 제출 과제\n",
        "변수를 활용한 프로그램 작성하기 \n",
        "과제1 또는 과제 2 중 하나를 택하여 작성하고 제출하면 됩니다.\n",
        "\n",
        "과제1.   \"안녕 내 이름은 000이야\" 출력되도록 print괄호 안에 적절한 변수 넣기</br>\n",
        "\n",
        "과제2.   아래 조건을 만족하는 변수를 활용한 창의적인 프로그램 작성하기(Bonus+1점)\n",
        " *  input() 명령을 통해 값을 입력받아 변수에 저장\n",
        " *  입력받은 값을 저장한 변수를 화면에 출력\n",
        "\n",
        "\n",
        "\n"
      ],
      "metadata": {
        "id": "oomV1eROMkNG"
      }
    },
    {
      "cell_type": "code",
      "source": [
        "#과제1  20700 김은진\n",
        "a=input(\"이름을 입력하세요:\")\n",
        "b=\"안녕!\"\n",
        "c=\"내 이름은\"\n",
        "d=\"(이)야.\"\n",
        "print( a+b,c,d ) "
      ],
      "metadata": {
        "id": "F7_OFjFTMltE"
      },
      "execution_count": null,
      "outputs": []
    },
    {
      "cell_type": "markdown",
      "source": [
        "# 조건문 제출 과제 \n",
        "조건문을 활용한 프로그램을 작성하세요. 과제1, 2 중 1개 선택하여 선택하여 수행\n",
        "\n",
        "1.   지하철 자판기 프로그램을 작성하시오  \n",
        "\n",
        " *   만 13세 미만은 450원 요금 안내\n",
        " *   만 13세 이상 19세 미만은 720원 요금 안내\n",
        " *   만 19세 이상 65세 미만은 1250원 요금 안내\n",
        " *   만 65세 이상 노인은 이용요금 0원 요금 안내\n",
        "2.   조건문을 활용한 창의적인 코드 작성 (Bonus점수) \n",
        " *   조건문은 반드시 사용\n",
        " *   print, input, 변수 중 2가지 사용 \n",
        " *   조건문을 사용할 수 있는 프로그램을 작성하시오(수업시간 예제 외)\n",
        "\n",
        "\n",
        "\n"
      ],
      "metadata": {
        "id": "DSQrs9DtMWoC"
      }
    },
    {
      "cell_type": "code",
      "source": [
        "# 과제1: 아래의 코드를 올바르게 작동하도록 수정하세요.\n",
        "age = int(input('나이는?'))\n",
        "\n",
        "if age : \n",
        "    price = 450\n",
        "elif 13 <= age and age < 19   : #13 이상 19 미만 이라는 조건을 표현하고 싶을 때 \n",
        "    price = 720\n",
        "elif   : \n",
        "    price = 1250 \n",
        "else : \n",
        "    price = 0 \n",
        "\n",
        "print('지하철 요금은',price,'원 입니다.')"
      ],
      "metadata": {
        "id": "_YMlo3LLMcvc"
      },
      "execution_count": null,
      "outputs": []
    },
    {
      "cell_type": "markdown",
      "source": [
        "# 리스트 제출 과제 \n",
        "리스트을 활용한 프로그램을 작성하세요. 과제1, 2 중 1개 선택하여 선택하여 수행\n",
        "\n",
        "1. 아래 조건을 만족하는 프로그램을 작성하시오  \n",
        " *   리스트 g와 문자열 슬라이싱을 사용하여\n",
        " *   \"스타벅스 그린 티 프라푸치노\" 출력\n",
        "\n",
        "2.   리스트을 활용한 창의적인 코드 작성 (Bonus점수)\n",
        " *   리스트는 반드시 사용  \n",
        " *   print, input, 변수, 조건문 중 3가지 사용 \n",
        " *  수업시간에 사용한 예제는 창의적인 답변으로 인정X\n",
        "\n",
        "\n",
        "\n"
      ],
      "metadata": {
        "id": "Mg6cuG8TMSSh"
      }
    },
    {
      "cell_type": "code",
      "source": [
        "g=\"스타벅스그린티프라푸치노\"\n",
        "print(g[0:2],g[7:],g[7:],g[7:])"
      ],
      "metadata": {
        "id": "HZB7bMUkMUK8"
      },
      "execution_count": null,
      "outputs": []
    },
    {
      "cell_type": "markdown",
      "source": [
        "# 반복문 제출 과제 \n",
        "반복문을 활용한 프로그램을 작성하세요. 과제1, 2 중 1개 선택하여 선택하여 수행\n",
        "\n",
        "1. 아래 조건을 만족하는 프로그램을 작성하시오  \n",
        " *   1부터 30까지 수의\n",
        " *   홀수와 짝수 여부를 판별하는 프로그램을 작성\n",
        "\n",
        "2.   반복문을 활용한 창의적인 코드 작성 (Bonus점수)\n",
        " *   반복문은 반드시 사용  \n",
        " *   print, input, 변수, 조건문, 리스트 중 3가지 사용 \n",
        " *  수업시간에 사용한 예제는 창의적인 답변으로 인정X\n",
        "\n",
        "\n",
        "\n"
      ],
      "metadata": {
        "id": "UvRjZ42s_VQP"
      }
    },
    {
      "cell_type": "code",
      "source": [
        "#예시코드\n",
        "for i in range(31) : \n",
        "if i%2 == 1 : \n",
        "   print(i, '짝수')\n",
        "else : \n",
        "   print(i, '짝수')"
      ],
      "metadata": {
        "id": "4RY8M3BX_b0e",
        "colab": {
          "base_uri": "https://localhost:8080/"
        },
        "outputId": "f1f1ae30-767d-4f4b-95e2-55132514a9a7"
      },
      "execution_count": null,
      "outputs": [
        {
          "output_type": "stream",
          "name": "stdout",
          "text": [
            "0 짝수\n",
            "1 짝수\n",
            "2 짝수\n",
            "3 짝수\n",
            "4 짝수\n",
            "5 짝수\n",
            "6 짝수\n",
            "7 짝수\n",
            "8 짝수\n",
            "9 짝수\n",
            "10 짝수\n",
            "11 짝수\n",
            "12 짝수\n",
            "13 짝수\n",
            "14 짝수\n",
            "15 짝수\n",
            "16 짝수\n",
            "17 짝수\n",
            "18 짝수\n",
            "19 짝수\n",
            "20 짝수\n",
            "21 짝수\n",
            "22 짝수\n",
            "23 짝수\n",
            "24 짝수\n",
            "25 짝수\n",
            "26 짝수\n",
            "27 짝수\n",
            "28 짝수\n",
            "29 짝수\n",
            "30 짝수\n"
          ]
        }
      ]
    },
    {
      "cell_type": "code",
      "source": [
        ""
      ],
      "metadata": {
        "id": "IAWmXigbRLWM"
      },
      "execution_count": null,
      "outputs": []
    },
    {
      "cell_type": "code",
      "source": [
        ""
      ],
      "metadata": {
        "id": "0UTHgLt6RLSy"
      },
      "execution_count": null,
      "outputs": []
    },
    {
      "cell_type": "code",
      "source": [
        ""
      ],
      "metadata": {
        "id": "4SrlMdrpRLLP"
      },
      "execution_count": null,
      "outputs": []
    },
    {
      "cell_type": "code",
      "source": [
        ""
      ],
      "metadata": {
        "id": "tpuOaKeqRLEh"
      },
      "execution_count": null,
      "outputs": []
    },
    {
      "cell_type": "code",
      "source": [
        ""
      ],
      "metadata": {
        "id": "v-8bYv7tF1ib"
      },
      "execution_count": null,
      "outputs": []
    }
  ]
}