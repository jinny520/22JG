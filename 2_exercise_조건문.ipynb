{
  "nbformat": 4,
  "nbformat_minor": 0,
  "metadata": {
    "colab": {
      "name": "2.exercise_조건문.ipynb",
      "provenance": [],
      "collapsed_sections": [],
      "include_colab_link": true
    },
    "kernelspec": {
      "name": "python3",
      "display_name": "Python 3"
    }
  },
  "cells": [
    {
      "cell_type": "markdown",
      "metadata": {
        "id": "view-in-github",
        "colab_type": "text"
      },
      "source": [
        "<a href=\"https://colab.research.google.com/github/jinny520/22JG/blob/main/2_exercise_%EC%A1%B0%EA%B1%B4%EB%AC%B8.ipynb\" target=\"_parent\"><img src=\"https://colab.research.google.com/assets/colab-badge.svg\" alt=\"Open In Colab\"/></a>"
      ]
    },
    {
      "cell_type": "markdown",
      "metadata": {
        "id": "IgU4y4cdCo3v"
      },
      "source": [
        "#  1. 조건문 if\n",
        "\n",
        "**조건문 : 조건을 충족할 때에만 선택적으로 실행되는 명령어**\n",
        "</br>\n",
        "**=선택구조**\n",
        "</br>\n",
        "\n",
        "\n",
        "```\n",
        "조건 A를 충족할 때에만\n",
        "B해라\n",
        "\n",
        "ex. 열이 나지 않으면 등교해라 \n",
        "```\n",
        "\n",
        "<img src ='https://github.com/jinny520/22JG/blob/12503e893fad2f87ee6e37b3baa478010bf1132d/imaage/1.JPG?raw=true' width=500>\n",
        "\n"
      ]
    },
    {
      "cell_type": "code",
      "metadata": {
        "id": "MkpSM5DyCp78"
      },
      "source": [
        "# 만약 체온이 높으면 등교 불가능하다고 출력\n"
      ],
      "execution_count": null,
      "outputs": []
    },
    {
      "cell_type": "markdown",
      "metadata": {
        "id": "fn3FlsHEYSiA"
      },
      "source": [
        "<img src = 'https://github.com/jinny520/22JG/blob/12503e893fad2f87ee6e37b3baa478010bf1132d/imaage/2.JPG?raw=true' width =800>"
      ]
    },
    {
      "cell_type": "markdown",
      "metadata": {
        "id": "iIllPy22YGxI"
      },
      "source": [
        "> 조건문에서는 들여쓰기를 조심하세요!\n",
        "</br>\n",
        "<img src ='https://github.com/jinny520/22JG/blob/12503e893fad2f87ee6e37b3baa478010bf1132d/imaage/3.JPG?raw=true' width=200>"
      ]
    },
    {
      "cell_type": "markdown",
      "metadata": {
        "id": "vpkrmOpKIurV"
      },
      "source": [
        "물건 금액을 입력받고 물건이 오만원 미만일 경우 배송비 2500원을 더해서 결제금액을 안내하시오. "
      ]
    },
    {
      "cell_type": "code",
      "metadata": {
        "id": "F0zdyUHuCp_5",
        "colab": {
          "base_uri": "https://localhost:8080/"
        },
        "outputId": "4a6fff33-acd3-4ec6-8997-b85544386d07"
      },
      "source": [
        "#물건 금액을 입력받고 물건이 50000원 미만일 경우 배송비 2500원을 더해서 결제금액을 안내하시오.\n",
        "\n"
      ],
      "execution_count": null,
      "outputs": [
        {
          "output_type": "stream",
          "text": [
            "물건 가격 입력 : 30000\n",
            "총 결제금액은 32500\n"
          ],
          "name": "stdout"
        }
      ]
    },
    {
      "cell_type": "markdown",
      "metadata": {
        "id": "A5d31d8QYY3s"
      },
      "source": [
        "# 2. 조건을 만드는 비교연산자\n",
        "\n",
        "a와 b가 같다면\n",
        "> if a == b :      \n",
        "\n",
        "</br>\n",
        "\n",
        "a와 b가 같지 않다면\n",
        "\n",
        "> if a != b :   \n",
        "\n",
        "</br>\n",
        "</br>\n",
        "\n",
        "a가 b보다 크다면\n",
        "> if a > b :     \n",
        "\n",
        "a가 b보다 크거나 같다면 \n",
        "> if a >= b :      \n",
        "\n",
        "a가 b보다 작다면\n",
        "> if a < b :        \n",
        "\n",
        "a가 b보다 작거나 같다면\n",
        "> if a <= b :      \n"
      ]
    },
    {
      "cell_type": "markdown",
      "metadata": {
        "id": "pC042qGEkl4T"
      },
      "source": [
        "출석 혹은 결석 둘 중 하나를 입력받고, 출석을 입력받았을 경우 O를 출력하기"
      ]
    },
    {
      "cell_type": "code",
      "metadata": {
        "id": "MkSuyWQ5eFKC",
        "colab": {
          "base_uri": "https://localhost:8080/"
        },
        "outputId": "53838cc2-433d-47fe-b15b-b9d6f1989bb7"
      },
      "source": [
        "#출석 혹은 결석 입력받고, 출석 입력받았을 경우 O를 출력하기\n",
        "\n"
      ],
      "execution_count": null,
      "outputs": [
        {
          "output_type": "stream",
          "text": [
            "출석 혹은 결석을 입력하세요 출석\n",
            "0\n"
          ],
          "name": "stdout"
        }
      ]
    },
    {
      "cell_type": "markdown",
      "metadata": {
        "id": "NyCBjh41EVVn"
      },
      "source": [
        "# 3. if-else 조건문\n",
        "조건을 충족하지 않을 때 실행하는 명령어\n",
        "\n",
        "\n",
        "```\n",
        "만약 조건 A라면, \n",
        "    B해라\n",
        "그렇지 않으면,\n",
        "    C해라\n",
        "```\n",
        "\n",
        "<img src = 'https://github.com/jinny520/22JG/blob/12503e893fad2f87ee6e37b3baa478010bf1132d/imaage/4.JPG?raw=true' width=400>\n"
      ]
    },
    {
      "cell_type": "code",
      "metadata": {
        "id": "9o7hV4p9CqE2",
        "colab": {
          "base_uri": "https://localhost:8080/"
        },
        "outputId": "bebcdb81-fc83-4124-fad8-a92ec9414f54"
      },
      "source": [
        "if temp > 37.5 : \n",
        "    print('등교할 수 없습니다.')\n",
        "else : \n",
        "    print('등교가능합니다.')"
      ],
      "execution_count": null,
      "outputs": [
        {
          "output_type": "stream",
          "name": "stdout",
          "text": [
            "등교할 수 없습니다.\n"
          ]
        }
      ]
    },
    {
      "cell_type": "markdown",
      "metadata": {
        "id": "kLlhbmxaU5Br"
      },
      "source": [
        "자동 출석 시스템 \n",
        "```\n",
        "출석 혹은 결석을 입력받아 출석이면 O을 출력, 출석이 아니면 X를 출력하기\n",
        "입력안내문 : 출석 혹은 결석을 입력하세요\n",
        "```\n",
        "\n"
      ]
    },
    {
      "cell_type": "code",
      "metadata": {
        "id": "7TAwKdmcTpUu",
        "colab": {
          "base_uri": "https://localhost:8080/"
        },
        "outputId": "92d053f0-7b8a-403d-9db1-845bd2bc6324"
      },
      "source": [
        "#자동 출석 시스템 코드 작성해보기\n",
        "\n"
      ],
      "execution_count": null,
      "outputs": [
        {
          "output_type": "stream",
          "text": [
            "출석 혹은 결석을 입력하세요 결석\n",
            "X\n"
          ],
          "name": "stdout"
        }
      ]
    },
    {
      "cell_type": "markdown",
      "metadata": {
        "id": "H3lACF-xoWgO"
      },
      "source": [
        "지하철 무인자판기 프로그램\n",
        "\n",
        "\n",
        "```\n",
        "지하철에 무인자판기를 설치했다. \n",
        "요금이 성인에게는 1250원, 청소년은 720원이다. \n",
        "나이를 입력받아 성인이면 price(요금을 저장하는 변수)에 1250을, 미성년자라면 720을 저장하기 \n",
        "```\n",
        "\n"
      ]
    },
    {
      "cell_type": "code",
      "metadata": {
        "id": "ADkXah-ynI6P",
        "colab": {
          "base_uri": "https://localhost:8080/"
        },
        "outputId": "db68fdf4-2397-4b91-f4eb-e770c47d33fc"
      },
      "source": [
        "#지하철 무인자판기 프로그램 코드 작성해보기\n",
        "\n"
      ],
      "execution_count": null,
      "outputs": [
        {
          "output_type": "stream",
          "name": "stdout",
          "text": [
            "나이가 어떻게 되세요? 18\n",
            "미성년자는 2000 원입니다.\n"
          ]
        }
      ]
    },
    {
      "cell_type": "markdown",
      "metadata": {
        "id": "dB3x0QJuxCgB"
      },
      "source": [
        "# 4. elif 조건문\n",
        "\n",
        "<img src='https://github.com/jinny520/22JG/blob/12503e893fad2f87ee6e37b3baa478010bf1132d/imaage/5.JPG?raw=true' width=400>\n"
      ]
    },
    {
      "cell_type": "markdown",
      "metadata": {
        "id": "2mnojcUty6z7"
      },
      "source": [
        "지하철 요금\n",
        "\n",
        "\n",
        "```\n",
        "- 성인 1250원\n",
        "- 청소년 720원 (만 13~18세)\n",
        "- 어린이 450원 (~ 만 12세)\n",
        "\n",
        "나이를 입력받아 조건 별로 \n",
        "- '지하철 요금은 1250원입니다.'\n",
        "- '지하철 요금은 720원입니다.'\n",
        "- '지하철 요금은 450원입니다.'\n",
        "중 하나를 출력하기\n",
        "```\n",
        "\n",
        "<img src='https://github.com/jinny520/22JG/blob/6b2d73bd1c824ede7f29dfbc216a85f3df63d9e8/imaage/6.JPG?raw=true' width=600>"
      ]
    },
    {
      "cell_type": "code",
      "metadata": {
        "colab": {
          "base_uri": "https://localhost:8080/"
        },
        "id": "wVJyrAfb30ah",
        "outputId": "756aef25-effe-4ad2-c56d-850297a1c286"
      },
      "source": [
        "# 나이를 입력받아 나이대별로 지하철 요금을 출력해주는 프로그램 작성해보기\n",
        "age = int(input('나이는?'))\n",
        "\n",
        "if age < 13 : \n",
        "    print('지하철 요금은 450원입니다.')\n",
        "elif age < 19 : \n",
        "    print('지하철 요금은 720원입니다.')\n",
        "else : \n",
        "    print('지하철 요금은 1250원입니다.')"
      ],
      "execution_count": 1,
      "outputs": [
        {
          "output_type": "stream",
          "name": "stdout",
          "text": [
            "나이는?25\n",
            "지하철 요금은 1250원입니다.\n"
          ]
        }
      ]
    },
    {
      "cell_type": "markdown",
      "source": [
        "# 5. 오늘의 과제 \n",
        "조건문을 활용한 프로그램을 작성하세요 \n",
        "</br> 과제1, 2 중 본인이 원하는 과제 선택하여 수행(택1)\n",
        "\n",
        "과제1.   지하철 자판기 프로그램  \n",
        "\n",
        " *   만 65세 이상 노인은 이용요금 0원\n",
        " *   만 19세 이상 65세 미만은 1250원 \n",
        " *   만 13세 이상 19세 미만은 720원\n",
        " *   만 13세 미만은 450원\n",
        "\n",
        "과제2.   조건문을 활용한 창의적인 코드 작성 (bonus점수 +1점) \n",
        " *   print, input, 변수 중 2가지 사용 \n",
        " *   조건문을 사용할 수 있는 상황 생각해보기\n",
        "\n",
        "\n",
        "\n"
      ],
      "metadata": {
        "id": "8xRGmJRF6kDc"
      }
    },
    {
      "cell_type": "code",
      "source": [
        "# 과제1: 아래의 코드를 올바르게 작동하도록 수정하세요.\n",
        "age = int(input('나이는?'))\n",
        "\n",
        "if  age < 13 : \n",
        "    print('지하철 요금은 450원입니다.')\n",
        "elif age < 19 : \n",
        "    print('지하철 요금은 720원입니다.')\n",
        "else : \n",
        "    print('지하철 요금은 1250원입니다.')\n",
        "elif : \n",
        "    print('지하철 요금은 0원입니다.')  "
      ],
      "metadata": {
        "id": "psq7tw4K6OqB"
      },
      "execution_count": null,
      "outputs": []
    }
  ]
}