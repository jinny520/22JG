{
  "nbformat": 4,
  "nbformat_minor": 0,
  "metadata": {
    "colab": {
      "name": "3. ans_리스트.ipynb",
      "provenance": [],
      "collapsed_sections": [],
      "include_colab_link": true
    },
    "kernelspec": {
      "name": "python3",
      "display_name": "Python 3"
    }
  },
  "cells": [
    {
      "cell_type": "markdown",
      "metadata": {
        "id": "view-in-github",
        "colab_type": "text"
      },
      "source": [
        "<a href=\"https://colab.research.google.com/github/jinny520/22JG/blob/main/3_ans_%EB%A6%AC%EC%8A%A4%ED%8A%B8.ipynb\" target=\"_parent\"><img src=\"https://colab.research.google.com/assets/colab-badge.svg\" alt=\"Open In Colab\"/></a>"
      ]
    },
    {
      "cell_type": "markdown",
      "metadata": {
        "id": "6n9IjADZt4Z5"
      },
      "source": [
        "#  1. 리스트\n",
        "\n",
        "> 실생활의 리스트 \n",
        "    \n",
        "<img src='https://github.com/jinny520/22JG/blob/91b0656903a3f9342d31307fc4197d7c726f90c4/imaage/list1.%EC%8B%A4%EC%83%9D%ED%99%9C%EB%A6%AC%EC%8A%A4%ED%8A%B8.JPG?raw=true' width=150>\n",
        "\n",
        "</br>\n",
        "</br>\n",
        "\n",
        "\n",
        "> 파이썬의 리스트\n",
        "\n",
        "```\n",
        "리스트 여러 데이터를 한 번에 묶어서 표현\n",
        "리스트이름 = [데이터1, 데이터2, ..., 데이터n]\n",
        "```\n",
        "<img src='https://github.com/jinny520/22JG/blob/91b0656903a3f9342d31307fc4197d7c726f90c4/imaage/list2.%20%EC%BB%B4%ED%93%A8%ED%84%B0%EC%97%90%EC%84%9C%20%EB%A6%AC%EC%8A%A4%ED%8A%B8.JPG?raw=true' width=600>\n",
        "\n",
        "\n",
        "\n"
      ]
    },
    {
      "cell_type": "code",
      "metadata": {
        "id": "oQPOx1sVvWGh"
      },
      "source": [
        "# 1월 부터 6월까지 지출을 리스트로 만들기\n",
        "spending = [25, 36, 8, 53, 24, 56]"
      ],
      "execution_count": null,
      "outputs": []
    },
    {
      "cell_type": "code",
      "metadata": {
        "colab": {
          "base_uri": "https://localhost:8080/"
        },
        "id": "WyZJMv8jvWGk",
        "outputId": "89c526f3-bdc5-41fd-c946-05c879e2a363"
      },
      "source": [
        "print(spending)"
      ],
      "execution_count": null,
      "outputs": [
        {
          "output_type": "stream",
          "name": "stdout",
          "text": [
            "[25, 36, 8, 53, 24, 56]\n"
          ]
        }
      ]
    },
    {
      "cell_type": "code",
      "metadata": {
        "colab": {
          "base_uri": "https://localhost:8080/"
        },
        "id": "7Llghql2vWGl",
        "outputId": "b48da923-eff0-4f04-98c6-b55056283526"
      },
      "source": [
        "type(spending)"
      ],
      "execution_count": null,
      "outputs": [
        {
          "output_type": "execute_result",
          "data": {
            "text/plain": [
              "list"
            ]
          },
          "metadata": {},
          "execution_count": 15
        }
      ]
    },
    {
      "cell_type": "markdown",
      "metadata": {
        "id": "TKe3-L5lNYYN"
      },
      "source": [
        "### 리스트와 인덱스\n",
        "<img src ='https://github.com/jinny520/22JG/blob/91b0656903a3f9342d31307fc4197d7c726f90c4/imaage/list3.%20%EC%9D%B8%EB%8D%B1%EC%8A%A4.JPG?raw=true' width =700>"
      ]
    },
    {
      "cell_type": "code",
      "metadata": {
        "colab": {
          "base_uri": "https://localhost:8080/"
        },
        "id": "5mLzA4cXvalW",
        "outputId": "66a079dc-2fa4-4d9a-fd2a-ac8286385b7f"
      },
      "source": [
        "# 1월 지출은?\n",
        "print(spending[0])"
      ],
      "execution_count": null,
      "outputs": [
        {
          "output_type": "stream",
          "name": "stdout",
          "text": [
            "25\n"
          ]
        }
      ]
    },
    {
      "cell_type": "code",
      "metadata": {
        "colab": {
          "base_uri": "https://localhost:8080/"
        },
        "id": "TQqYs6_yvalX",
        "outputId": "5966a329-cbe6-418b-aa49-0dcc1ddd84dd"
      },
      "source": [
        "# 6월 지출은?\n",
        "print(spending[5])"
      ],
      "execution_count": null,
      "outputs": [
        {
          "output_type": "stream",
          "name": "stdout",
          "text": [
            "56\n"
          ]
        }
      ]
    },
    {
      "cell_type": "code",
      "metadata": {
        "colab": {
          "base_uri": "https://localhost:8080/"
        },
        "id": "-3HHzgwQvalX",
        "outputId": "327f26c7-5022-457a-f74d-b794f70d7a80"
      },
      "source": [
        "# 3월 지출은?\n",
        "print(spending[2])"
      ],
      "execution_count": null,
      "outputs": [
        {
          "output_type": "stream",
          "name": "stdout",
          "text": [
            "8\n"
          ]
        }
      ]
    },
    {
      "cell_type": "markdown",
      "source": [
        "# **※실습※**\n",
        "알고보니 4월 지출이 10낮게 기록됐다. 4월 지출에 10을 더하시오"
      ],
      "metadata": {
        "id": "LcZhrOCc9-37"
      }
    },
    {
      "cell_type": "code",
      "metadata": {
        "colab": {
          "base_uri": "https://localhost:8080/"
        },
        "id": "Gjh17yfove5a",
        "outputId": "3b4da498-d112-4adc-94cd-cb5835077bce"
      },
      "source": [
        "print('변경 전 :', spending)\n",
        "\n",
        "#spending[3] = spending[3] + 10 \n",
        "spending[3] += 10 \n",
        "\n",
        "print('변경 후 :', spending)"
      ],
      "execution_count": null,
      "outputs": [
        {
          "output_type": "stream",
          "name": "stdout",
          "text": [
            "변경 전 : [25, 36, 8, 53, 24, 56]\n",
            "변경 후 : [25, 36, 8, 63, 24, 56]\n"
          ]
        }
      ]
    },
    {
      "cell_type": "markdown",
      "metadata": {
        "id": "jxiiZRt3ve5b"
      },
      "source": [
        "5월 지출을 2로 나누시오"
      ]
    },
    {
      "cell_type": "code",
      "metadata": {
        "colab": {
          "base_uri": "https://localhost:8080/"
        },
        "id": "RzwMJLLGve5b",
        "outputId": "60301818-ce35-4ba7-b7ce-4c0b1c1ef1cc"
      },
      "source": [
        "print('변경 전:', spending)\n",
        "\n",
        "#spending[4] = spending[4] / 2  \n",
        "spending[4] /= 2\n",
        "\n",
        "print('변경 후:', spending)"
      ],
      "execution_count": null,
      "outputs": [
        {
          "output_type": "stream",
          "name": "stdout",
          "text": [
            "변경 전: [25, 36, 8, 63, 24, 56]\n",
            "변경 후: [25, 36, 8, 63, 12.0, 56]\n"
          ]
        }
      ]
    },
    {
      "cell_type": "markdown",
      "metadata": {
        "id": "6GNtA_6rE1lY"
      },
      "source": [
        "### 마이너스 인덱스\n",
        "\n",
        "<img src = 'https://github.com/jinny520/22JG/blob/91b0656903a3f9342d31307fc4197d7c726f90c4/imaage/list4.%EA%B1%B0%EA%BE%B8%EB%A1%9C%EC%9D%B8%EB%8D%B1%EC%8A%A4.JPG?raw=true' width=500>"
      ]
    },
    {
      "cell_type": "code",
      "metadata": {
        "colab": {
          "base_uri": "https://localhost:8080/"
        },
        "id": "T52uhQWrvkEZ",
        "outputId": "36fa85cc-03ae-4855-cd8d-bdb43204c7a7"
      },
      "source": [
        "print(spending[5])\n",
        "print(spending[-1])"
      ],
      "execution_count": null,
      "outputs": [
        {
          "output_type": "stream",
          "name": "stdout",
          "text": [
            "56\n",
            "56\n"
          ]
        }
      ]
    },
    {
      "cell_type": "code",
      "metadata": {
        "colab": {
          "base_uri": "https://localhost:8080/"
        },
        "id": "yv1W_nP_vkEZ",
        "outputId": "b77612ea-049e-4549-c058-10da66b97420"
      },
      "source": [
        "print(spending[4])\n",
        "print(spending[-2]) #빈 칸 채워보기"
      ],
      "execution_count": null,
      "outputs": [
        {
          "output_type": "stream",
          "name": "stdout",
          "text": [
            "12.0\n",
            "12.0\n"
          ]
        }
      ]
    },
    {
      "cell_type": "markdown",
      "metadata": {
        "id": "mcMUi8x-OEod"
      },
      "source": [
        "#  2.  리스트의 다양한 기능\n",
        "\n",
        "### 리스트 길이 확인 \n",
        "> len(리스트이름)           \n",
        "\n"
      ]
    },
    {
      "cell_type": "code",
      "metadata": {
        "id": "PVBaOrEONp4H",
        "colab": {
          "base_uri": "https://localhost:8080/"
        },
        "outputId": "24d90079-f66f-44da-cbf2-a03b486af7d4"
      },
      "source": [
        "len(spending)"
      ],
      "execution_count": null,
      "outputs": [
        {
          "output_type": "execute_result",
          "data": {
            "text/plain": [
              "6"
            ]
          },
          "metadata": {},
          "execution_count": 33
        }
      ]
    },
    {
      "cell_type": "markdown",
      "metadata": {
        "id": "E_Y7AFD0TFIB"
      },
      "source": [
        "### 리스트에 데이터 추가하기\n",
        "\n",
        "> 리스트이름.append(데이터)  \n",
        "\n",
        "\n"
      ]
    },
    {
      "cell_type": "code",
      "metadata": {
        "id": "PYw7ooYGNp65",
        "colab": {
          "base_uri": "https://localhost:8080/"
        },
        "outputId": "0a22be93-cc06-4318-95d4-9074e136dd81"
      },
      "source": [
        "food = ['피자','치킨','떡볶이','스테이크','파스타']\n",
        "\n",
        "# 감자칩 추가\n",
        "food.append('감자칩')\n",
        "print(food)"
      ],
      "execution_count": null,
      "outputs": [
        {
          "output_type": "stream",
          "name": "stdout",
          "text": [
            "['피자', '치킨', '떡볶이', '스테이크', '파스타', '감자칩']\n"
          ]
        }
      ]
    },
    {
      "cell_type": "code",
      "metadata": {
        "id": "I7i_vU_D-rGP"
      },
      "source": [
        "# 카레 추가(직접 해보기)\n",
        "\n"
      ],
      "execution_count": null,
      "outputs": []
    },
    {
      "cell_type": "markdown",
      "metadata": {
        "id": "IGU9mv18M_PG"
      },
      "source": [
        "### 빈 리스트 만들고 데이터 추가하기"
      ]
    },
    {
      "cell_type": "code",
      "metadata": {
        "colab": {
          "base_uri": "https://localhost:8080/"
        },
        "id": "GYzqWARONDK-",
        "outputId": "5eba9d7c-41ff-45ba-c7cf-a14c2dc3563a"
      },
      "source": [
        "# 해야할 일을 저장하는 리스트 to_do\n",
        "to_do = []\n",
        "\n",
        "to_do.append('파이썬 공부')\n",
        "print(to_do)"
      ],
      "execution_count": null,
      "outputs": [
        {
          "output_type": "stream",
          "name": "stdout",
          "text": [
            "['파이썬 공부']\n"
          ]
        }
      ]
    },
    {
      "cell_type": "code",
      "metadata": {
        "colab": {
          "base_uri": "https://localhost:8080/"
        },
        "id": "0r1zYRJ_vrp8",
        "outputId": "c3ff2e5b-6ba3-4cf3-c594-0ab47ef07ea8"
      },
      "source": [
        "# 해야할 일을 입력받아 to_do에 저장하기(코드 빈칸 채우기)\n",
        "task = input('해야할 일을 입력하세요 ')\n",
        "to_do.append(task)\n",
        "print(to_do)"
      ],
      "execution_count": null,
      "outputs": [
        {
          "output_type": "stream",
          "name": "stdout",
          "text": [
            "해야할 일을 입력하세요 영어 공부\n",
            "['파이썬 공부', '영어 공부']\n"
          ]
        }
      ]
    },
    {
      "cell_type": "code",
      "metadata": {
        "colab": {
          "base_uri": "https://localhost:8080/"
        },
        "id": "2mUJG2Jevrp9",
        "outputId": "24198d76-9500-458b-9b8e-ac152eba1fc3"
      },
      "source": [
        "to_do.append(input('해야할 일을 입력하세요 '))\n",
        "print(to_do)"
      ],
      "execution_count": null,
      "outputs": [
        {
          "output_type": "stream",
          "name": "stdout",
          "text": [
            "해야할 일을 입력하세요 수학 공부\n",
            "['파이썬 공부', '영어 공부', '수학 공부']\n"
          ]
        }
      ]
    },
    {
      "cell_type": "markdown",
      "metadata": {
        "id": "VcinMKvjPO_n"
      },
      "source": [
        "### 리스트 슬라이싱\n",
        "\n",
        "\n",
        "> 리스트[시작숫자 : 종료숫자]\n",
        "\n",
        "<img src = 'https://github.com/jinny520/22JG/blob/91b0656903a3f9342d31307fc4197d7c726f90c4/imaage/list5.%EC%8A%AC%EB%9D%BC%EC%9D%B4%EC%8B%B1.JPG?raw=true' width=500>\n",
        "\n",
        "\n",
        "종료숫자-1 까지 잘라내는 것\n",
        "\n",
        "```\n",
        "abc[2:5]       # abc[2]~abc[4]까지 슬라이싱\n",
        "abc[4:9]       # abc[4]~abc[8]까지 슬라이싱\n",
        "```\n"
      ]
    },
    {
      "cell_type": "code",
      "metadata": {
        "id": "skKBPcWnO31V"
      },
      "source": [
        "food = ['피자','치킨','떡볶이','스테이크','파스타']"
      ],
      "execution_count": null,
      "outputs": []
    },
    {
      "cell_type": "code",
      "metadata": {
        "id": "5T90E9u2PzQl",
        "colab": {
          "base_uri": "https://localhost:8080/"
        },
        "outputId": "177d60c5-c22b-495f-db3b-cf6097cf5831"
      },
      "source": [
        "# 떡볶이, 스테이크만 골라내기\n",
        "food[2:4]"
      ],
      "execution_count": null,
      "outputs": [
        {
          "output_type": "execute_result",
          "data": {
            "text/plain": [
              "['떡볶이', '스테이크']"
            ]
          },
          "metadata": {},
          "execution_count": 39
        }
      ]
    },
    {
      "cell_type": "code",
      "metadata": {
        "id": "u8_ZjYbVPzXv",
        "colab": {
          "base_uri": "https://localhost:8080/"
        },
        "outputId": "940ae6f3-3a0b-410e-910f-90ead9c2e0dc"
      },
      "source": [
        "# 처음부터 스테이크까지 골라내기\n",
        "food[:3]"
      ],
      "execution_count": null,
      "outputs": [
        {
          "output_type": "execute_result",
          "data": {
            "text/plain": [
              "['피자', '치킨', '떡볶이']"
            ]
          },
          "metadata": {},
          "execution_count": 40
        }
      ]
    },
    {
      "cell_type": "code",
      "metadata": {
        "id": "DGT1u07APzWH",
        "colab": {
          "base_uri": "https://localhost:8080/"
        },
        "outputId": "675cb1f8-e7e2-4688-fbb5-ffc2fa059ede"
      },
      "source": [
        "# 뒤에서 n개 데이터 슬라이싱\n",
        "food[-2:]"
      ],
      "execution_count": null,
      "outputs": [
        {
          "output_type": "execute_result",
          "data": {
            "text/plain": [
              "['스테이크', '파스타']"
            ]
          },
          "metadata": {},
          "execution_count": 41
        }
      ]
    },
    {
      "cell_type": "markdown",
      "metadata": {
        "id": "2GzeP7MRQ1BC"
      },
      "source": [
        "### 문자열 슬라이싱"
      ]
    },
    {
      "cell_type": "code",
      "metadata": {
        "id": "trbsdMEzQ38P"
      },
      "source": [
        "date = '2022-04-04'"
      ],
      "execution_count": null,
      "outputs": []
    },
    {
      "cell_type": "code",
      "metadata": {
        "id": "uJp-ceSnQ3_b",
        "colab": {
          "base_uri": "https://localhost:8080/",
          "height": 35
        },
        "outputId": "7e8f11b9-31bf-4e45-b0fa-f34af2e04c17"
      },
      "source": [
        "date[:4]"
      ],
      "execution_count": null,
      "outputs": [
        {
          "output_type": "execute_result",
          "data": {
            "text/plain": [
              "'2022'"
            ],
            "application/vnd.google.colaboratory.intrinsic+json": {
              "type": "string"
            }
          },
          "metadata": {},
          "execution_count": 43
        }
      ]
    },
    {
      "cell_type": "code",
      "metadata": {
        "id": "cUQ_6ORgQ4BE",
        "colab": {
          "base_uri": "https://localhost:8080/",
          "height": 35
        },
        "outputId": "c03c0e53-71a3-457d-e96b-eb96395b5a08"
      },
      "source": [
        "date[-2:]"
      ],
      "execution_count": null,
      "outputs": [
        {
          "output_type": "execute_result",
          "data": {
            "text/plain": [
              "'04'"
            ],
            "application/vnd.google.colaboratory.intrinsic+json": {
              "type": "string"
            }
          },
          "metadata": {},
          "execution_count": 44
        }
      ]
    },
    {
      "cell_type": "code",
      "metadata": {
        "colab": {
          "base_uri": "https://localhost:8080/",
          "height": 35
        },
        "id": "y1Wh1NQqDTc2",
        "outputId": "f1aab07f-d3e4-450b-922c-179c8ff8c454"
      },
      "source": [
        "date[5:7]"
      ],
      "execution_count": null,
      "outputs": [
        {
          "output_type": "execute_result",
          "data": {
            "text/plain": [
              "'04'"
            ],
            "application/vnd.google.colaboratory.intrinsic+json": {
              "type": "string"
            }
          },
          "metadata": {},
          "execution_count": 45
        }
      ]
    },
    {
      "cell_type": "markdown",
      "metadata": {
        "id": "Teyp7VgNO0Rt"
      },
      "source": [
        "### split()으로 문자열 슬라이싱"
      ]
    },
    {
      "cell_type": "code",
      "metadata": {
        "id": "EsKzoWaCO4u5"
      },
      "source": [
        "date = '2022-04-04 월요일'"
      ],
      "execution_count": null,
      "outputs": []
    },
    {
      "cell_type": "code",
      "metadata": {
        "colab": {
          "base_uri": "https://localhost:8080/"
        },
        "id": "a7DAbSNRO4yY",
        "outputId": "d8a97090-4397-48b2-bdf5-2441cca607f3"
      },
      "source": [
        "# 공백을 기준으로 split\n",
        "date.split()"
      ],
      "execution_count": null,
      "outputs": [
        {
          "output_type": "execute_result",
          "data": {
            "text/plain": [
              "['2022-04-04', '월요일']"
            ]
          },
          "metadata": {},
          "execution_count": 56
        }
      ]
    },
    {
      "cell_type": "code",
      "metadata": {
        "colab": {
          "base_uri": "https://localhost:8080/"
        },
        "id": "6hR9rP6vO41D",
        "outputId": "9329f83d-555d-4a15-f025-45677dd98245"
      },
      "source": [
        "# 0을 기준으로 split\n",
        "date.split('0')"
      ],
      "execution_count": null,
      "outputs": [
        {
          "output_type": "execute_result",
          "data": {
            "text/plain": [
              "['2', '22-', '4-', '4 월요일']"
            ]
          },
          "metadata": {},
          "execution_count": 57
        }
      ]
    },
    {
      "cell_type": "code",
      "metadata": {
        "colab": {
          "base_uri": "https://localhost:8080/"
        },
        "id": "WLiSb170PR-a",
        "outputId": "45e87ed8-fdb0-4bfd-99fc-c106b8d91ed0"
      },
      "source": [
        "# -을 기준으로 split\n",
        "date.split('-')"
      ],
      "execution_count": null,
      "outputs": [
        {
          "output_type": "execute_result",
          "data": {
            "text/plain": [
              "['2022', '04', '04 월요일']"
            ]
          },
          "metadata": {},
          "execution_count": 58
        }
      ]
    },
    {
      "cell_type": "code",
      "metadata": {
        "colab": {
          "base_uri": "https://localhost:8080/",
          "height": 35
        },
        "id": "xR6IRYuiv6qq",
        "outputId": "4246183f-ab65-4af3-8163-863d18907542"
      },
      "source": [
        "# split의 결과는 리스트이므로 인덱스 사용 가능\n",
        "date.split('-')[1]"
      ],
      "execution_count": null,
      "outputs": [
        {
          "output_type": "execute_result",
          "data": {
            "text/plain": [
              "'04'"
            ],
            "application/vnd.google.colaboratory.intrinsic+json": {
              "type": "string"
            }
          },
          "metadata": {},
          "execution_count": 59
        }
      ]
    },
    {
      "cell_type": "code",
      "metadata": {
        "colab": {
          "base_uri": "https://localhost:8080/"
        },
        "id": "L0ityv4av6qr",
        "outputId": "a8650997-f4c4-4931-f469-89bc1dcb3605"
      },
      "source": [
        "# split의 결과는 문자이므로 숫자로 변환해야 함\n",
        "int(date.split('-')[1])"
      ],
      "execution_count": null,
      "outputs": [
        {
          "output_type": "execute_result",
          "data": {
            "text/plain": [
              "4"
            ]
          },
          "metadata": {},
          "execution_count": 60
        }
      ]
    },
    {
      "cell_type": "markdown",
      "source": [
        "\n",
        "# **※실습※**\n",
        "```\n",
        "date = '2022-01-25'\n",
        "```\n",
        "\n",
        "위 date에서 월(month)만 골라내 숫자형태로 변수 mon에 저장하시오."
      ],
      "metadata": {
        "id": "n_AaeU0uU350"
      }
    },
    {
      "cell_type": "code",
      "source": [
        "date = '2022-01-25'\n",
        "\n",
        "# 월만 골라내기\n",
        "\n",
        "mon = int(date.split('-')[1])\n",
        "print(mon)"
      ],
      "metadata": {
        "colab": {
          "base_uri": "https://localhost:8080/"
        },
        "id": "eT8GwFpxU9RP",
        "outputId": "fdbb64fc-3dc0-44bc-f747-4ed3880ccfe6"
      },
      "execution_count": null,
      "outputs": [
        {
          "output_type": "stream",
          "name": "stdout",
          "text": [
            "1\n"
          ]
        }
      ]
    },
    {
      "cell_type": "markdown",
      "metadata": {
        "id": "1SNURQRPkLjp"
      },
      "source": [
        "위 date에서 일(day)만 숫자 형태로 골라내 변수에 저장하시오."
      ]
    },
    {
      "cell_type": "code",
      "metadata": {
        "id": "EV6_JAjDR5lz",
        "colab": {
          "base_uri": "https://localhost:8080/"
        },
        "outputId": "c980f7b4-9a5a-4e54-a75d-51a1028a5f40"
      },
      "source": [
        "# 일만 골라내기\n",
        "day = int(date.split('-')[-1])\n",
        "print(day)"
      ],
      "execution_count": null,
      "outputs": [
        {
          "output_type": "stream",
          "name": "stdout",
          "text": [
            "25\n"
          ]
        }
      ]
    },
    {
      "cell_type": "markdown",
      "metadata": {
        "id": "Mliij-AiZr4_"
      },
      "source": [
        "# 4. 이차원 리스트\n",
        "\n",
        "<img src ='https://github.com/jinny520/22JG/blob/91b0656903a3f9342d31307fc4197d7c726f90c4/imaage/list6.%EC%9D%B4%EC%B0%A8%EC%9B%90%EB%A6%AC%EC%8A%A4%ED%8A%B8.JPG?raw=true' width = 700>"
      ]
    },
    {
      "cell_type": "code",
      "metadata": {
        "id": "4acOxb9Dul8O",
        "colab": {
          "base_uri": "https://localhost:8080/"
        },
        "outputId": "2980d4ee-f090-44ee-c2f3-e4c5ac2eb9a0"
      },
      "source": [
        "abc = [[1,2,3], [4,5,6], [7,8,9]]\n",
        "print(abc)"
      ],
      "execution_count": null,
      "outputs": [
        {
          "output_type": "stream",
          "name": "stdout",
          "text": [
            "[[1, 2, 3], [4, 5, 6], [7, 8, 9]]\n"
          ]
        }
      ]
    },
    {
      "cell_type": "code",
      "metadata": {
        "id": "BQ0u3IM-yUd_",
        "colab": {
          "base_uri": "https://localhost:8080/"
        },
        "outputId": "b3b83e8a-dd4d-4b23-ab8e-b8d1960c7c8e"
      },
      "source": [
        "print(abc[0])"
      ],
      "execution_count": null,
      "outputs": [
        {
          "output_type": "stream",
          "name": "stdout",
          "text": [
            "[1, 2, 3]\n"
          ]
        }
      ]
    },
    {
      "cell_type": "code",
      "metadata": {
        "id": "gyt8s3mtpiTF",
        "colab": {
          "base_uri": "https://localhost:8080/"
        },
        "outputId": "ae61b14d-1f40-48a1-c015-37e52c05ab77"
      },
      "source": [
        "print(abc[1])"
      ],
      "execution_count": null,
      "outputs": [
        {
          "output_type": "stream",
          "name": "stdout",
          "text": [
            "[4, 5, 6]\n"
          ]
        }
      ]
    },
    {
      "cell_type": "code",
      "metadata": {
        "id": "smaYOq_bpiY8",
        "colab": {
          "base_uri": "https://localhost:8080/"
        },
        "outputId": "6112a274-f9dd-454d-9392-a40559bbb117"
      },
      "source": [
        "print(abc[-1])"
      ],
      "execution_count": null,
      "outputs": [
        {
          "output_type": "stream",
          "name": "stdout",
          "text": [
            "[7, 8, 9]\n"
          ]
        }
      ]
    },
    {
      "cell_type": "markdown",
      "metadata": {
        "id": "IROs-Ha0yUj2"
      },
      "source": [
        "## 이차원 리스트의 인덱스\n",
        "\n",
        "<img src = 'https://github.com/jinny520/22JG/blob/91b0656903a3f9342d31307fc4197d7c726f90c4/imaage/list7.%EC%9D%B4%EC%B0%A8%EC%9B%90%EB%A6%AC%EC%8A%A4%ED%8A%B8%20%EC%9D%B8%EB%8D%B1%EC%8B%B1.JPG?raw=true' width = 700>"
      ]
    },
    {
      "cell_type": "code",
      "metadata": {
        "id": "1U_e8JPXul-I",
        "colab": {
          "base_uri": "https://localhost:8080/"
        },
        "outputId": "1a361c89-efd2-4ba5-92f9-5e1e5f8a2221"
      },
      "source": [
        "# 1 출력하기\n",
        "print(abc[0][0])"
      ],
      "execution_count": null,
      "outputs": [
        {
          "output_type": "stream",
          "name": "stdout",
          "text": [
            "1\n"
          ]
        }
      ]
    },
    {
      "cell_type": "markdown",
      "metadata": {
        "id": "-bcfTuieldf0"
      },
      "source": [
        "이차원 리스트 abc에서 인덱스를 활용해 다음 숫자를 출력하시오"
      ]
    },
    {
      "cell_type": "code",
      "metadata": {
        "id": "lhEJ64vTumAI",
        "colab": {
          "base_uri": "https://localhost:8080/"
        },
        "outputId": "ab315197-4fcb-451e-f5e7-0f724e1dfc5c"
      },
      "source": [
        "# 6 출력하기\n",
        "print(abc[1][2])"
      ],
      "execution_count": null,
      "outputs": [
        {
          "output_type": "stream",
          "name": "stdout",
          "text": [
            "6\n"
          ]
        }
      ]
    },
    {
      "cell_type": "code",
      "metadata": {
        "id": "8dolImUrumCS",
        "colab": {
          "base_uri": "https://localhost:8080/"
        },
        "outputId": "3c06e3ad-876c-4956-c43b-166fc9fe1c69"
      },
      "source": [
        "# 8 출력하기\n",
        "print(abc[2][1])"
      ],
      "execution_count": null,
      "outputs": [
        {
          "output_type": "stream",
          "name": "stdout",
          "text": [
            "8\n"
          ]
        }
      ]
    },
    {
      "cell_type": "markdown",
      "source": [
        "# 5. 오늘의 과제 \n",
        "리스트을 활용한 프로그램을 작성하세요. 과제1, 2 중 1개 선택하여 선택하여 수행\n",
        "\n",
        "1. 아래 조건을 만족하는 프로그램을 작성하시오  \n",
        " *   리스트 g와 문자열 슬라이싱을 사용하여\n",
        " *   \"스타벅스 그린 티 프라푸치노\" 출력\n",
        "\n",
        "2.   리스트을 활용한 창의적인 코드 작성 (Bonus점수)\n",
        " *   리스트는 반드시 사용  \n",
        " *   print, input, 변수, 조건문 중 3가지 사용 \n",
        " *  수업시간에 사용한 예제는 창의적인 답변으로 인정X\n",
        "\n",
        "\n",
        "\n"
      ],
      "metadata": {
        "id": "by2ZR2bw6PFe"
      }
    },
    {
      "cell_type": "code",
      "source": [
        "g=\"스타벅스그린티프라푸치노\"\n",
        "print(g[0:2],g[7:],g[7:],g[7:])"
      ],
      "metadata": {
        "colab": {
          "base_uri": "https://localhost:8080/"
        },
        "id": "zqY3X7mz6Q14",
        "outputId": "89d0d1a8-562a-45bf-b37f-7f7607173ab9"
      },
      "execution_count": null,
      "outputs": [
        {
          "output_type": "stream",
          "name": "stdout",
          "text": [
            "스타 프라푸치노 프라푸치노 프라푸치노\n"
          ]
        }
      ]
    },
    {
      "cell_type": "code",
      "source": [
        ""
      ],
      "metadata": {
        "id": "tYXpkQN49fJN"
      },
      "execution_count": null,
      "outputs": []
    },
    {
      "cell_type": "code",
      "source": [
        ""
      ],
      "metadata": {
        "id": "mljdGhkS9fDO"
      },
      "execution_count": null,
      "outputs": []
    },
    {
      "cell_type": "code",
      "source": [
        ""
      ],
      "metadata": {
        "id": "CN2haOyC9e1c"
      },
      "execution_count": null,
      "outputs": []
    },
    {
      "cell_type": "markdown",
      "metadata": {
        "id": "gKl6ITBVf4dN"
      },
      "source": [
        "# 5. 베이징 동계 올림픽 데이터 "
      ]
    },
    {
      "cell_type": "markdown",
      "metadata": {
        "id": "bIBp6iFLMfqY"
      },
      "source": [
        "<img src= 'https://github.com/jinny520/22JG/blob/91b0656903a3f9342d31307fc4197d7c726f90c4/imaage/list8.%20%EB%B2%A0%EC%9D%B4%EC%A7%95%EB%8F%99%EA%B3%84%EC%98%AC%EB%A6%BC%ED%94%BD.JPG?raw=true' width=500>\n",
        "</br>\n",
        "</br>\n",
        "<img src= 'https://github.com/jinny520/22JG/blob/91b0656903a3f9342d31307fc4197d7c726f90c4/imaage/list9.%20%EB%A9%94%EB%8B%AC%ED%91%9C.JPG?raw=true' width=400>\n",
        "\n"
      ]
    },
    {
      "cell_type": "code",
      "metadata": {
        "id": "0VrPyd2vMfqZ"
      },
      "source": [
        "data =[\n",
        "       [1,'노르웨이',16,8,13,37],\n",
        "       [2,'독일',12,10,5,27],\n",
        "       [3,'중국',9,4,2,15],\n",
        "       [4,'미국',8,10,7,25],\n",
        "       [5,'스웨덴',8, 5,4,17],\n",
        "       [6,'네덜란드',8, 5,4,17],\n",
        "       [7,'오스트리아',7,7,4,18],\n",
        "       [8,'스위스',7,2,5,14],\n",
        "       [9,'러시아',6,12,14,32],\n",
        "       [10,'프랑스',5,7,2,14],\n",
        "       [11,'캐나다',4,8,14,26],\n",
        "       [12,'일본',3,6,9,18],\n",
        "       [13,'이탈리아',2,7,8,17],\n",
        "       [14,'대한민국',2,5,2,9],\n",
        "       ]"
      ],
      "execution_count": null,
      "outputs": []
    },
    {
      "cell_type": "code",
      "metadata": {
        "colab": {
          "base_uri": "https://localhost:8080/"
        },
        "id": "G7IrajJ1Mfqa",
        "outputId": "ec86fd78-60c8-4c5c-8a17-a816edef1ba2"
      },
      "source": [
        "# 순위권에 든 모든 국가를 출력하시오\n",
        "for row in data :\n",
        "    print(row[1])"
      ],
      "execution_count": null,
      "outputs": [
        {
          "output_type": "stream",
          "name": "stdout",
          "text": [
            "노르웨이\n",
            "독일\n",
            "중국\n",
            "미국\n",
            "스웨덴\n",
            "네덜란드\n",
            "오스트리아\n",
            "스위스\n",
            "러시아\n",
            "프랑스\n",
            "캐나다\n",
            "일본\n",
            "이탈리아\n",
            "대한민국\n"
          ]
        }
      ]
    },
    {
      "cell_type": "code",
      "metadata": {
        "colab": {
          "base_uri": "https://localhost:8080/"
        },
        "id": "68PFEdkqwJ7E",
        "outputId": "b1e18339-cd7e-45bf-f769-684eb3ddb16a"
      },
      "source": [
        "# 금메달보다 은메달 개수가 많은 나라를 출력하시오\n",
        "for row in data : \n",
        "    if row[2] < row[3] : \n",
        "        print(row[1], '금메달-',row[2], '은메달-',row[3])"
      ],
      "execution_count": null,
      "outputs": [
        {
          "output_type": "stream",
          "name": "stdout",
          "text": [
            "미국 금메달- 8 은메달- 10\n",
            "러시아 금메달- 6 은메달- 12\n",
            "프랑스 금메달- 5 은메달- 7\n",
            "캐나다 금메달- 4 은메달- 8\n",
            "일본 금메달- 3 은메달- 6\n",
            "이탈리아 금메달- 2 은메달- 7\n",
            "대한민국 금메달- 2 은메달- 5\n"
          ]
        }
      ]
    },
    {
      "cell_type": "code",
      "metadata": {
        "colab": {
          "base_uri": "https://localhost:8080/"
        },
        "id": "8OxHRNZdwJ7E",
        "outputId": "3f0fde10-b914-401c-db43-ac5b7dff4703"
      },
      "source": [
        "# 금메달보다 동메달 개수가 많은 나라를 출력하시오\n",
        "for row in data : \n",
        "    if row[2] < row[4] : \n",
        "        print(row[1], '금메달-', row[2], '동메달-', row[4])"
      ],
      "execution_count": null,
      "outputs": [
        {
          "output_type": "stream",
          "name": "stdout",
          "text": [
            "러시아 금메달- 6 동메달- 14\n",
            "캐나다 금메달- 4 동메달- 14\n",
            "일본 금메달- 3 동메달- 9\n",
            "이탈리아 금메달- 2 동메달- 8\n"
          ]
        }
      ]
    },
    {
      "cell_type": "code",
      "metadata": {
        "colab": {
          "base_uri": "https://localhost:8080/"
        },
        "id": "UrNdK5VZwJ7E",
        "outputId": "06b7b196-e247-4280-cf3a-f913a4d52152"
      },
      "source": [
        "# 모든 나라의 금메달 합을 구하시오\n",
        "gold = 0\n",
        "\n",
        "for row in data : \n",
        "    gold += row[2]\n",
        "\n",
        "print('총 금메달 개수는', gold)"
      ],
      "execution_count": null,
      "outputs": [
        {
          "output_type": "stream",
          "name": "stdout",
          "text": [
            "총 금메달 개수는 97\n"
          ]
        }
      ]
    }
  ]
}