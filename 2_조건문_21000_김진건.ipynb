{
  "nbformat": 4,
  "nbformat_minor": 0,
  "metadata": {
    "colab": {
      "name": "2.조건문_21000_김진건.ipynb",
      "provenance": [],
      "collapsed_sections": [],
      "include_colab_link": true
    },
    "kernelspec": {
      "name": "python3",
      "display_name": "Python 3"
    }
  },
  "cells": [
    {
      "cell_type": "markdown",
      "metadata": {
        "id": "view-in-github",
        "colab_type": "text"
      },
      "source": [
        "<a href=\"https://colab.research.google.com/github/jinny520/22JG/blob/main/2_%EC%A1%B0%EA%B1%B4%EB%AC%B8_21000_%EA%B9%80%EC%A7%84%EA%B1%B4.ipynb\" target=\"_parent\"><img src=\"https://colab.research.google.com/assets/colab-badge.svg\" alt=\"Open In Colab\"/></a>"
      ]
    },
    {
      "cell_type": "markdown",
      "metadata": {
        "id": "IgU4y4cdCo3v"
      },
      "source": [
        "#  1. 조건문 if\n",
        "\n",
        "**조건문 : 조건을 충족할 때에만 선택적으로 실행되는 명령어**\n",
        "</br>\n",
        "**=선택구조**\n",
        "</br>\n",
        "\n",
        "\n",
        "```\n",
        "조건 A를 충족할 때에만\n",
        "B해라\n",
        "\n",
        "ex. 열이 나지 않으면 등교해라 \n",
        "```\n",
        "\n",
        "<img src ='https://github.com/jinny520/22JG/blob/12503e893fad2f87ee6e37b3baa478010bf1132d/imaage/1.JPG?raw=true' width=500>\n",
        "\n"
      ]
    },
    {
      "cell_type": "code",
      "metadata": {
        "id": "MkpSM5DyCp78"
      },
      "source": [
        "# 열이 나지 않으면 등교해라\n",
        "temp = 35\n",
        "\n",
        "if temp < 37.5 : \n",
        "    # 조건을 충족할 때만 실행\n",
        "    print('등교 가능')"
      ],
      "execution_count": null,
      "outputs": []
    },
    {
      "cell_type": "markdown",
      "metadata": {
        "id": "fn3FlsHEYSiA"
      },
      "source": [
        "<img src = 'https://github.com/jinny520/22JG/blob/12503e893fad2f87ee6e37b3baa478010bf1132d/imaage/2.JPG?raw=true' width =800>"
      ]
    },
    {
      "cell_type": "markdown",
      "metadata": {
        "id": "iIllPy22YGxI"
      },
      "source": [
        "> 조건문에서는 들여쓰기를 조심하세요!\n",
        "</br>\n",
        "<img src ='https://github.com/jinny520/22JG/blob/12503e893fad2f87ee6e37b3baa478010bf1132d/imaage/3.JPG?raw=true' width=200>"
      ]
    },
    {
      "cell_type": "markdown",
      "metadata": {
        "id": "vpkrmOpKIurV"
      },
      "source": [
        "물건 금액을 입력받고 물건이 오만원 미만일 경우 배송비 2500원을 더해서 결제금액을 안내하시오. "
      ]
    },
    {
      "cell_type": "code",
      "metadata": {
        "id": "F0zdyUHuCp_5"
      },
      "source": [
        "price = \n",
        "\n",
        "if\n",
        "\n"
      ],
      "execution_count": null,
      "outputs": []
    },
    {
      "cell_type": "markdown",
      "metadata": {
        "id": "A5d31d8QYY3s"
      },
      "source": [
        "# 2. 조건을 만드는 비교연산자\n",
        "\n",
        "a와 b가 같다면\n",
        "> if a == b :      \n",
        "\n",
        "</br>\n",
        "\n",
        "a와 b가 같지 않다면\n",
        "\n",
        "> if a != b :   \n",
        "\n",
        "</br>\n",
        "</br>\n",
        "\n",
        "a가 b보다 크다면\n",
        "> if a > b :     \n",
        "\n",
        "a가 b보다 크거나 같다면 \n",
        "> if a >= b :      \n",
        "\n",
        "a가 b보다 작다면\n",
        "> if a < b :        \n",
        "\n",
        "a가 b보다 작거나 같다면\n",
        "> if a <= b :      \n"
      ]
    },
    {
      "cell_type": "markdown",
      "metadata": {
        "id": "pC042qGEkl4T"
      },
      "source": [
        "출석 혹은 결석 둘 중 하나를 입력받고, 출석을 입력받았을 경우 O를 출력하기"
      ]
    },
    {
      "cell_type": "code",
      "metadata": {
        "id": "MkSuyWQ5eFKC"
      },
      "source": [
        "check = \n",
        "if \n",
        "\n"
      ],
      "execution_count": null,
      "outputs": []
    },
    {
      "cell_type": "markdown",
      "metadata": {
        "id": "NyCBjh41EVVn"
      },
      "source": [
        "# 3. if-else 조건문\n",
        "조건을 충족하지 않을 때 실행하는 명령어\n",
        "\n",
        "\n",
        "```\n",
        "만약 조건 A라면, \n",
        "    B해라\n",
        "그렇지 않으면,\n",
        "    C해라\n",
        "```\n",
        "\n",
        "<img src = 'https://github.com/jinny520/22JG/blob/12503e893fad2f87ee6e37b3baa478010bf1132d/imaage/4.JPG?raw=true' width=400>\n"
      ]
    },
    {
      "cell_type": "code",
      "metadata": {
        "id": "9o7hV4p9CqE2"
      },
      "source": [
        "if temp > 37.5 : \n",
        "    print('등교할 수 없습니다.')\n",
        "else : \n",
        "    print('등교가능합니다.')"
      ],
      "execution_count": null,
      "outputs": []
    },
    {
      "cell_type": "markdown",
      "metadata": {
        "id": "kLlhbmxaU5Br"
      },
      "source": [
        "자동 출석 시스템 \n",
        "```\n",
        "출석 혹은 결석을 입력받아 출석이면 O을 출력, 출석이 아니면 X를 출력하기\n",
        "입력안내문 : 출석 혹은 결석을 입력하세요\n",
        "```\n",
        "\n"
      ]
    },
    {
      "cell_type": "code",
      "metadata": {
        "id": "7TAwKdmcTpUu"
      },
      "source": [
        "#자동 출석 시스템 코드 작성해보기\n",
        "\n"
      ],
      "execution_count": null,
      "outputs": []
    },
    {
      "cell_type": "markdown",
      "metadata": {
        "id": "H3lACF-xoWgO"
      },
      "source": [
        "지하철 무인자판기 프로그램\n",
        "\n",
        "\n",
        "```\n",
        "지하철에 무인자판기를 설치했다. \n",
        "요금이 성인에게는 1250원, 청소년은 720원이다. \n",
        "나이를 입력받아 성인이면 price(요금을 저장하는 변수)에 1250을, 미성년자라면 720을 저장하기 \n",
        "```\n",
        "\n"
      ]
    },
    {
      "cell_type": "code",
      "metadata": {
        "id": "ADkXah-ynI6P"
      },
      "source": [
        "#지하철 무인자판기 프로그램 코드 작성해보기\n",
        "\n"
      ],
      "execution_count": null,
      "outputs": []
    },
    {
      "cell_type": "markdown",
      "metadata": {
        "id": "dB3x0QJuxCgB"
      },
      "source": [
        "# 4. elif 조건문\n",
        "\n",
        "<img src='https://github.com/jinny520/22JG/blob/12503e893fad2f87ee6e37b3baa478010bf1132d/imaage/5.JPG?raw=true' width=400>\n"
      ]
    },
    {
      "cell_type": "markdown",
      "metadata": {
        "id": "2mnojcUty6z7"
      },
      "source": [
        "지하철 요금\n",
        "\n",
        "\n",
        "```\n",
        "- 성인 1250원\n",
        "- 청소년 720원 (만 13~18세)\n",
        "- 어린이 450원 (~ 만 12세)\n",
        "\n",
        "나이를 입력받아 조건 별로 \n",
        "- '지하철 요금은 1250원입니다.'\n",
        "- '지하철 요금은 720원입니다.'\n",
        "- '지하철 요금은 450원입니다.'\n",
        "중 하나를 출력하기\n",
        "```\n",
        "\n",
        "<img src='https://github.com/jinny520/22JG/blob/6b2d73bd1c824ede7f29dfbc216a85f3df63d9e8/imaage/6.JPG?raw=true' width=600>"
      ]
    },
    {
      "cell_type": "code",
      "metadata": {
        "id": "wVJyrAfb30ah"
      },
      "source": [
        "# 나이를 입력받아 나이대별로 지하철 요금을 출력해주는 프로그램 작성해보기\n",
        "age = int(input('나이가 어떻게 되세요? '))\n",
        "\n",
        "if       : \n",
        "    print('지하철 요금은 450원입니다.')\n",
        "elif     : \n",
        "    print('지하철 요금은 720원입니다.')\n",
        "else : \n",
        "    print('지하철 요금은 1250원입니다.')\n",
        "\n"
      ],
      "execution_count": null,
      "outputs": []
    },
    {
      "cell_type": "markdown",
      "source": [
        "# 오늘의 제출과제\n",
        "*   과제1 또는 과제 2 중 하나만 수행하면 됩니다\n",
        "\n",
        "*   제출방법\n",
        "  1. 맨 위 파일 제목을 학번이름으로 수정해주세요 \n",
        "  2. 오늘의 과제 수행\n",
        "  3. Ctrl + s 눌러서 저장 \n",
        "  4. [파일]-[다운로드]-[.ipynb ] 선택\n",
        "  5. 과제 제출창 --> 파일선택  --> 다운로드 탭--></br>\n",
        "   [2.조건문_21000_김진건] 파일 첨부 --> </br>\n",
        "   제출자칸에 학번이름 써서 제출"
      ],
      "metadata": {
        "id": "DEz18E6oyKhq"
      }
    },
    {
      "cell_type": "code",
      "source": [
        "#과제1 \n",
        "\n",
        "\n"
      ],
      "metadata": {
        "id": "iYaiZ2x5yNz_"
      },
      "execution_count": null,
      "outputs": []
    },
    {
      "cell_type": "code",
      "source": [
        "#과제2\n",
        "\n",
        "\n",
        "\n"
      ],
      "metadata": {
        "id": "IwIp20bGyRSq"
      },
      "execution_count": null,
      "outputs": []
    }
  ]
}