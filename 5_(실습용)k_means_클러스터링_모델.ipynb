{
  "nbformat": 4,
  "nbformat_minor": 0,
  "metadata": {
    "colab": {
      "name": "5. (실습용)k_means_클러스터링_모델.ipynb",
      "provenance": [],
      "collapsed_sections": [],
      "include_colab_link": true
    },
    "kernelspec": {
      "name": "python3",
      "display_name": "Python 3"
    }
  },
  "cells": [
    {
      "cell_type": "markdown",
      "metadata": {
        "id": "view-in-github",
        "colab_type": "text"
      },
      "source": [
        "<a href=\"https://colab.research.google.com/github/jinny520/22JG/blob/main/5_(%EC%8B%A4%EC%8A%B5%EC%9A%A9)k_means_%ED%81%B4%EB%9F%AC%EC%8A%A4%ED%84%B0%EB%A7%81_%EB%AA%A8%EB%8D%B8.ipynb\" target=\"_parent\"><img src=\"https://colab.research.google.com/assets/colab-badge.svg\" alt=\"Open In Colab\"/></a>"
      ]
    },
    {
      "cell_type": "markdown",
      "source": [
        "# K-means\n",
        "\n",
        "군집의 개수는 정하기 나름 \n",
        "\n",
        "<img src='https://github.com/Ahnjihye/allinone_AI/blob/images/65_clustering.png?raw=true' width=600>"
      ],
      "metadata": {
        "id": "BLqp8QY3AULu"
      }
    },
    {
      "cell_type": "markdown",
      "source": [
        "### Kmeans 군집 결정 알고리즘\n",
        "\n",
        "<img src='https://ichi.pro/assets/images/max/724/1*b2sO2f--yfZiJazc5rYSpg.gif' width=500>\n",
        "\n",
        "<img src='https://img1.daumcdn.net/thumb/R800x0/?scode=mtistory2&fname=https%3A%2F%2Fblog.kakaocdn.net%2Fdn%2FIzYb3%2FbtqyWWJ6pRR%2FfLbSvEKc7ncHp18dMLtcIK%2Fimg.png' width=600>\n",
        "\n",
        "<img src='https://img1.daumcdn.net/thumb/R1280x0/?scode=mtistory2&fname=https%3A%2F%2Fblog.kakaocdn.net%2Fdn%2Fdl53k5%2FbtqySsYwtNv%2F6Yd5kpKS4KN7FO6h95AJn0%2Fimg.png' width=600>\n",
        "\n",
        "<img src='https://img1.daumcdn.net/thumb/R1280x0/?scode=mtistory2&fname=https%3A%2F%2Fblog.kakaocdn.net%2Fdn%2FKZwKX%2FbtqyUK49PIv%2Fpz8uFW6TxKPYLkTTAc4IkK%2Fimg.png' width=600>\n",
        "\n",
        "<img src='https://img1.daumcdn.net/thumb/R1280x0/?scode=mtistory2&fname=https%3A%2F%2Fblog.kakaocdn.net%2Fdn%2FbOdu7N%2FbtqyTk0hrsL%2FOTet3D6KqHb6W00N8xX3J0%2Fimg.png' width=600>\n"
      ],
      "metadata": {
        "id": "yV1Q9P_tAYGj"
      }
    },
    {
      "cell_type": "markdown",
      "source": [
        "#### 코딩하기 전에 K-means를 시뮬레이션해보자\n",
        "\n",
        "\n",
        "[K-means Clustering Visualization](https://www.naftaliharris.com/blog/visualizing-k-means-clustering/)\n"
      ],
      "metadata": {
        "id": "Huj3UE9lAfee"
      }
    },
    {
      "cell_type": "markdown",
      "metadata": {
        "id": "1Xa5Y5r1RYAG"
      },
      "source": [
        "# **1. 데이터 불러오고 확인해보기**"
      ]
    },
    {
      "cell_type": "code",
      "metadata": {
        "id": "NyYYGakPOpEX"
      },
      "source": [
        "# 방법1) 내 PC에 있는 파일 불러오기\n",
        "\n",
        "#from google.colab import files\n",
        "#uploaded = files.upload()"
      ],
      "execution_count": null,
      "outputs": []
    },
    {
      "cell_type": "code",
      "metadata": {
        "id": "QLOOMX_sUxJI"
      },
      "source": [
        "# 방법2) 깃허브에 있는 파일 불러오기\n",
        "\n"
      ],
      "execution_count": null,
      "outputs": []
    },
    {
      "cell_type": "code",
      "metadata": {
        "id": "7MZgtCrNOwwZ"
      },
      "source": [
        "import csv \n",
        " \n",
        "f = open('파일이름.csv')     # 파일 오픈\n",
        "data = csv.reader(f)         # 파일 읽기\n",
        "next(data)                   # 파일 헤더 건너뛰기 \n",
        "data = list(data)            # 파일 리스트로 바꾸기\n"
      ],
      "execution_count": null,
      "outputs": []
    },
    {
      "cell_type": "code",
      "metadata": {
        "id": "YnuTMEq2U7SF"
      },
      "source": [
        "# 확인용\n"
      ],
      "execution_count": null,
      "outputs": []
    },
    {
      "cell_type": "code",
      "metadata": {
        "id": "Avq69yzbPROF"
      },
      "source": [
        "# 꽃받침 길이/넓이 => 숫자(실수)로 변경\n",
        "\n",
        "\n",
        "\n",
        "# 확인용\n"
      ],
      "execution_count": null,
      "outputs": []
    },
    {
      "cell_type": "code",
      "metadata": {
        "id": "Kyq3wRemPQ55"
      },
      "source": [
        "# 데이터 분포를 확인하기 위한 시각화 (품종을 나타내는 레이블이 없다고 가정)\n",
        "\n",
        "import matplotlib.pyplot as plt\n",
        "\n"
      ],
      "execution_count": null,
      "outputs": []
    },
    {
      "cell_type": "markdown",
      "metadata": {
        "id": "HKcQ0dfzR9l_"
      },
      "source": [
        "# **2. k-means 알고리즘에 따라 구현해보기 (단계별)**"
      ]
    },
    {
      "cell_type": "code",
      "metadata": {
        "id": "PP9jHCW_K93I"
      },
      "source": [
        "# [단계1] 변수 초기화, 두 개의 초기 중심을 랜덤으로 설정하기 \n",
        "\n"
      ],
      "execution_count": null,
      "outputs": []
    },
    {
      "cell_type": "code",
      "metadata": {
        "id": "vSU5BftYQr0y"
      },
      "source": [
        "# 확인용\n",
        "\n"
      ],
      "execution_count": null,
      "outputs": []
    },
    {
      "cell_type": "code",
      "metadata": {
        "id": "-6Zn9OVhQzWT"
      },
      "source": [
        "# 함수 정의(중심 두 개를 입력하면 => 원본 데이터와 중심을 시각화해주는 함수)\n",
        "\n",
        "\n"
      ],
      "execution_count": null,
      "outputs": []
    },
    {
      "cell_type": "code",
      "metadata": {
        "id": "PSaz2m0pREEc"
      },
      "source": [
        "# [단계1.5] 초기 중심 설정 후의 모습을 시각화\n",
        "\n"
      ],
      "execution_count": null,
      "outputs": []
    },
    {
      "cell_type": "code",
      "metadata": {
        "id": "d12HB-v9RJ5t"
      },
      "source": [
        "# 함수 만들기(두 점을 입력하면 => 거리를 리턴해주는 함수)\n",
        "\n"
      ],
      "execution_count": null,
      "outputs": []
    },
    {
      "cell_type": "code",
      "metadata": {
        "id": "yC7u2l_uZY3f"
      },
      "source": [
        "# 함수 만들기(중심 두 개를 입력하면 => 각 중심까지의 거리에 따라 그룹을 배정한 뒤, 그 그룹을 리턴하는 함수)\n",
        "\n"
      ],
      "execution_count": null,
      "outputs": []
    },
    {
      "cell_type": "code",
      "metadata": {
        "id": "t1yps5ObCiM_"
      },
      "source": [
        "# [단계2] 중심까지의 거리에 따라 그룹화 <- 반복 구조에 포함\n",
        "\n"
      ],
      "execution_count": null,
      "outputs": []
    },
    {
      "cell_type": "code",
      "metadata": {
        "id": "Jr1_RA75Q96B"
      },
      "source": [
        "# 확인용\n",
        "\n"
      ],
      "execution_count": null,
      "outputs": []
    },
    {
      "cell_type": "code",
      "metadata": {
        "id": "n3dRA_MlcB8p"
      },
      "source": [
        "# 함수 만들기(특정 그룹을 입력하면 => 그룹 내 데이터들의 평균을 계산해서 리턴해주는 함수)\n",
        "\n"
      ],
      "execution_count": null,
      "outputs": []
    },
    {
      "cell_type": "code",
      "metadata": {
        "id": "L5OyBdY6FpdA"
      },
      "source": [
        "# [단계3] 중심 업데이트 <- 반복 구조에 포함\n",
        "\n"
      ],
      "execution_count": null,
      "outputs": []
    },
    {
      "cell_type": "code",
      "metadata": {
        "id": "03aMItZWPaVB"
      },
      "source": [
        "# 확인용\n",
        "\n"
      ],
      "execution_count": null,
      "outputs": []
    },
    {
      "cell_type": "code",
      "metadata": {
        "id": "jhQtZPg73czc"
      },
      "source": [
        "# 함수 만들기(그룹 두 개와 중심 두 개를 입력하면 => 그룹화 및 중심 업데이트 후의 모습을 시각화해주는 함수)\n",
        "\n"
      ],
      "execution_count": null,
      "outputs": []
    },
    {
      "cell_type": "code",
      "metadata": {
        "id": "D9nBZJbe6Ok5"
      },
      "source": [
        "# [단계3.5] 그룹화 및 중심 업데이트 후의 모습을 시각화 <- 반복 구조에 포함\n",
        "\n"
      ],
      "execution_count": null,
      "outputs": []
    },
    {
      "cell_type": "markdown",
      "metadata": {
        "id": "deSfau-aS-0k"
      },
      "source": [
        "# **3. 위 과정을 종합하여 k_means 함수로 만들기**"
      ]
    },
    {
      "cell_type": "code",
      "metadata": {
        "id": "lLg6kXt48mwf"
      },
      "source": [
        "# 함수 만들기(주어진 학습 데이터를 k-means알고리즘으로 클러스터링해주는 함수)\n",
        "\n"
      ],
      "execution_count": null,
      "outputs": []
    },
    {
      "cell_type": "code",
      "metadata": {
        "id": "zEDe05j_bNaN"
      },
      "source": [
        "# 최종 실행\n",
        "\n"
      ],
      "execution_count": null,
      "outputs": []
    },
    {
      "cell_type": "markdown",
      "metadata": {
        "id": "jilZGQteqxld"
      },
      "source": [
        "# **4. 사이킷런 라이브러리를 활용한 k-means**"
      ]
    },
    {
      "cell_type": "code",
      "metadata": {
        "id": "9G_cDh1KsT8N"
      },
      "source": [
        "# 랜덤 클러스터 생성 (샘플 수, 속성 수, 클러스터 수, 표준편차)\n",
        "\n",
        "from sklearn.datasets import make_blobs\n",
        "\n"
      ],
      "execution_count": null,
      "outputs": []
    },
    {
      "cell_type": "code",
      "metadata": {
        "id": "E5E-JeHDsgJn"
      },
      "source": [
        "# 확인용\n",
        "\n"
      ],
      "execution_count": null,
      "outputs": []
    },
    {
      "cell_type": "code",
      "metadata": {
        "id": "e7zS4KZ9siKu"
      },
      "source": [
        "# 확인용\n",
        "\n"
      ],
      "execution_count": null,
      "outputs": []
    },
    {
      "cell_type": "code",
      "metadata": {
        "id": "bc59E8posnjl"
      },
      "source": [
        "# 생성된 데이터 시각화\n",
        "\n"
      ],
      "execution_count": null,
      "outputs": []
    },
    {
      "cell_type": "code",
      "metadata": {
        "id": "EXsckMgBs0Mt"
      },
      "source": [
        "# KMeans 알고리즘으로 학습 진행\n",
        "\n",
        "from sklearn.cluster import KMeans\n",
        "\n"
      ],
      "execution_count": null,
      "outputs": []
    },
    {
      "cell_type": "code",
      "metadata": {
        "id": "nw8_3v7b08TU"
      },
      "source": [
        "# 학습 후 부여된 레이블\n",
        "\n"
      ],
      "execution_count": null,
      "outputs": []
    },
    {
      "cell_type": "code",
      "metadata": {
        "id": "JXYJ196_WFUj"
      },
      "source": [
        "# 확인용\n",
        "\n"
      ],
      "execution_count": null,
      "outputs": []
    },
    {
      "cell_type": "code",
      "metadata": {
        "id": "Y5ulJsretHuZ"
      },
      "source": [
        "# KMeans 클러스터링 전/후 시각화\n",
        "\n"
      ],
      "execution_count": null,
      "outputs": []
    }
  ]
}