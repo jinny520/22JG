{
  "nbformat": 4,
  "nbformat_minor": 0,
  "metadata": {
    "colab": {
      "name": "4.ans_반복문.ipynb",
      "provenance": [],
      "collapsed_sections": [],
      "include_colab_link": true
    },
    "kernelspec": {
      "name": "python3",
      "display_name": "Python 3"
    }
  },
  "cells": [
    {
      "cell_type": "markdown",
      "metadata": {
        "id": "view-in-github",
        "colab_type": "text"
      },
      "source": [
        "<a href=\"https://colab.research.google.com/github/jinny520/22JG/blob/main/4.ans_%EB%B0%98%EB%B3%B5%EB%AC%B8.ipynb\" target=\"_parent\"><img src=\"https://colab.research.google.com/assets/colab-badge.svg\" alt=\"Open In Colab\"/></a>"
      ]
    },
    {
      "cell_type": "markdown",
      "metadata": {
        "id": "UCdFsLZvKa_C"
      },
      "source": [
        "# 1. 반복문\n",
        "<img src = 'https://github.com/jinny520/22JG/blob/058ddb09976eea81a4328dcd31e0f619178825e1/imaage/1.%20for.JPG?raw=true' width=500>\n",
        "\n"
      ]
    },
    {
      "cell_type": "code",
      "metadata": {
        "id": "HyLrFLZQt46j",
        "outputId": "8429ddcb-bf69-4108-b730-20e3f1d21fbc",
        "colab": {
          "base_uri": "https://localhost:8080/"
        }
      },
      "source": [
        "for a in [1,2,3,4,5] : \n",
        "    print('hi')"
      ],
      "execution_count": null,
      "outputs": [
        {
          "output_type": "stream",
          "name": "stdout",
          "text": [
            "hi\n",
            "hi\n",
            "hi\n",
            "hi\n",
            "hi\n"
          ]
        }
      ]
    },
    {
      "cell_type": "markdown",
      "metadata": {
        "id": "oEfcTfzDFlqS"
      },
      "source": [
        "<img src ='https://github.com/jinny520/22JG/blob/058ddb09976eea81a4328dcd31e0f619178825e1/imaage/2.for%20ex.JPG?raw=true' width=500>"
      ]
    },
    {
      "cell_type": "code",
      "metadata": {
        "id": "IQtiqCfit48u",
        "colab": {
          "base_uri": "https://localhost:8080/"
        },
        "outputId": "0e40d405-c412-4b58-82c0-27b16bdceb0a"
      },
      "source": [
        "for a in [1,2,3,4,5] : \n",
        "    print(a, 'hi')"
      ],
      "execution_count": null,
      "outputs": [
        {
          "output_type": "stream",
          "name": "stdout",
          "text": [
            "1 hi\n",
            "2 hi\n",
            "3 hi\n",
            "4 hi\n",
            "5 hi\n"
          ]
        }
      ]
    },
    {
      "cell_type": "markdown",
      "metadata": {
        "id": "wKvrSc-qou3A"
      },
      "source": [
        "# 2. range(시작숫자, 종료숫자)\n"
      ]
    },
    {
      "cell_type": "code",
      "metadata": {
        "id": "v5KMYQfk0ZVn",
        "colab": {
          "base_uri": "https://localhost:8080/"
        },
        "outputId": "a126ec15-946f-4622-d7b4-339d52ceaf3f"
      },
      "source": [
        "for a in range(1, 10) : \n",
        "    print(a, '선생님, 다시는 청소를 빼먹지 않겠습니다')"
      ],
      "execution_count": null,
      "outputs": [
        {
          "output_type": "stream",
          "name": "stdout",
          "text": [
            "1 선생님, 다시는 청소를 빼먹지 않겠습니다\n",
            "2 선생님, 다시는 청소를 빼먹지 않겠습니다\n",
            "3 선생님, 다시는 청소를 빼먹지 않겠습니다\n",
            "4 선생님, 다시는 청소를 빼먹지 않겠습니다\n",
            "5 선생님, 다시는 청소를 빼먹지 않겠습니다\n",
            "6 선생님, 다시는 청소를 빼먹지 않겠습니다\n",
            "7 선생님, 다시는 청소를 빼먹지 않겠습니다\n",
            "8 선생님, 다시는 청소를 빼먹지 않겠습니다\n",
            "9 선생님, 다시는 청소를 빼먹지 않겠습니다\n"
          ]
        }
      ]
    },
    {
      "cell_type": "markdown",
      "metadata": {
        "id": "y1BgbiiV1H11"
      },
      "source": [
        "> range()는 종료숫자-1 까지 포함한다"
      ]
    },
    {
      "cell_type": "code",
      "metadata": {
        "id": "tGmtMY-Z0k8p",
        "colab": {
          "base_uri": "https://localhost:8080/"
        },
        "outputId": "1160d4a1-08b2-49e1-99db-e91ff45f2c06"
      },
      "source": [
        "for a in range(1, 11) : \n",
        "    print(a, '선생님, 다시는 청소를 빼먹지 않겠습니다')"
      ],
      "execution_count": null,
      "outputs": [
        {
          "output_type": "stream",
          "name": "stdout",
          "text": [
            "1 선생님, 다시는 청소를 빼먹지 않겠습니다\n",
            "2 선생님, 다시는 청소를 빼먹지 않겠습니다\n",
            "3 선생님, 다시는 청소를 빼먹지 않겠습니다\n",
            "4 선생님, 다시는 청소를 빼먹지 않겠습니다\n",
            "5 선생님, 다시는 청소를 빼먹지 않겠습니다\n",
            "6 선생님, 다시는 청소를 빼먹지 않겠습니다\n",
            "7 선생님, 다시는 청소를 빼먹지 않겠습니다\n",
            "8 선생님, 다시는 청소를 빼먹지 않겠습니다\n",
            "9 선생님, 다시는 청소를 빼먹지 않겠습니다\n",
            "10 선생님, 다시는 청소를 빼먹지 않겠습니다\n"
          ]
        }
      ]
    },
    {
      "cell_type": "markdown",
      "metadata": {
        "id": "_8ebt0AF1bAw"
      },
      "source": [
        "> range()에서 시작숫자가 0일 때에는 생략 가능"
      ]
    },
    {
      "cell_type": "code",
      "metadata": {
        "id": "B1X6olKc1kuJ",
        "colab": {
          "base_uri": "https://localhost:8080/"
        },
        "outputId": "ca5df25d-4fb2-4b68-9515-7713993cb701"
      },
      "source": [
        "for a in range(10) : \n",
        "    print(a, '선생님, 다시는 청소를 빼먹지 않겠습니다')"
      ],
      "execution_count": null,
      "outputs": [
        {
          "output_type": "stream",
          "name": "stdout",
          "text": [
            "0 선생님, 다시는 청소를 빼먹지 않겠습니다\n",
            "1 선생님, 다시는 청소를 빼먹지 않겠습니다\n",
            "2 선생님, 다시는 청소를 빼먹지 않겠습니다\n",
            "3 선생님, 다시는 청소를 빼먹지 않겠습니다\n",
            "4 선생님, 다시는 청소를 빼먹지 않겠습니다\n",
            "5 선생님, 다시는 청소를 빼먹지 않겠습니다\n",
            "6 선생님, 다시는 청소를 빼먹지 않겠습니다\n",
            "7 선생님, 다시는 청소를 빼먹지 않겠습니다\n",
            "8 선생님, 다시는 청소를 빼먹지 않겠습니다\n",
            "9 선생님, 다시는 청소를 빼먹지 않겠습니다\n"
          ]
        }
      ]
    },
    {
      "cell_type": "markdown",
      "metadata": {
        "id": "nDc1ylrt03nH"
      },
      "source": [
        "# 3. for i in data :\n",
        "일반적으로 반복문에서는 i라는 변수를 사용합니다"
      ]
    },
    {
      "cell_type": "markdown",
      "metadata": {
        "id": "uYdboDiW4n7G"
      },
      "source": [
        "1부터 50까지의 숫자의 합을 구해보자.\n",
        "ex) 1+2+3+...49+50"
      ]
    },
    {
      "cell_type": "code",
      "metadata": {
        "colab": {
          "base_uri": "https://localhost:8080/"
        },
        "id": "qQGYUE-M4nZD",
        "outputId": "27c75857-a456-49fd-fe7d-334297241b26"
      },
      "source": [
        "result = 0\n",
        "\n",
        "for i in range(1, 51) : \n",
        "    result= result + i\n",
        "\n",
        "print(result)"
      ],
      "execution_count": null,
      "outputs": [
        {
          "output_type": "stream",
          "name": "stdout",
          "text": [
            "1275\n"
          ]
        }
      ]
    },
    {
      "cell_type": "markdown",
      "metadata": {
        "id": "ZFSryQew5TMk"
      },
      "source": [
        "숫자 하나를 입력받고, 1부터 입력받은 숫자까지의 곱을 구해보세요.\n",
        "<br/>\n",
        "ex) 5를 입력받은 경우, 1x2x3x4x5 결과 출력하기"
      ]
    },
    {
      "cell_type": "code",
      "source": [
        "num = int(input('숫자 입력 -> '))\n",
        "result = 1\n",
        "\n",
        "for i in range(, ) : \n",
        "    result *= i\n",
        "\n",
        "print(result)"
      ],
      "metadata": {
        "id": "fOnZDOPKzknm"
      },
      "execution_count": null,
      "outputs": []
    },
    {
      "cell_type": "code",
      "metadata": {
        "id": "J8hgPMKC06eR"
      },
      "source": [
        "num = int(input('숫자 입력 -> '))\n",
        "result = 1\n",
        "\n",
        "for i in range(1, num+1) : \n",
        "    result *= i\n",
        "\n",
        "print(result)"
      ],
      "execution_count": null,
      "outputs": []
    },
    {
      "cell_type": "markdown",
      "metadata": {
        "id": "wHPuVO9W57ym"
      },
      "source": [
        "# 4. 구구단 출력 프로그램\n",
        "4단 출력하기 <br/>\n",
        "\n",
        "```\n",
        "4 x 1 = 4\n",
        "4 x 2 = 8\n",
        "...\n",
        "4 x 8 = 32\n",
        "4 x 9 = 36\n",
        "```\n",
        "\n",
        "\n"
      ]
    },
    {
      "cell_type": "code",
      "metadata": {
        "id": "3g1T-QQw5u2b",
        "colab": {
          "base_uri": "https://localhost:8080/"
        },
        "outputId": "bc6c4e53-5282-4b16-bded-d67e11ecaa5c"
      },
      "source": [
        "for i in range(1, 10) : \n",
        "    print('4 x', i, '=', 4*i)"
      ],
      "execution_count": null,
      "outputs": [
        {
          "output_type": "stream",
          "name": "stdout",
          "text": [
            "4 x 1 = 4\n",
            "4 x 2 = 8\n",
            "4 x 3 = 12\n",
            "4 x 4 = 16\n",
            "4 x 5 = 20\n",
            "4 x 6 = 24\n",
            "4 x 7 = 28\n",
            "4 x 8 = 32\n",
            "4 x 9 = 36\n"
          ]
        }
      ]
    },
    {
      "cell_type": "markdown",
      "metadata": {
        "id": "v_SeRM6N7IH8"
      },
      "source": [
        "구구단 외울 단을 입력받아, 해당 숫자의 구구단을 외워봅시다.<br/>\n",
        "ex. 5를 입력받으면 5단 외우기"
      ]
    },
    {
      "cell_type": "code",
      "source": [
        "#코드 틀린 부분 고쳐보기\n",
        "num = int(input('몇 단을 외워볼까요? '))\n",
        "\n",
        "for i in range(1, 10) : \n",
        "    print(num, 'x', 1, '=', num*1)"
      ],
      "metadata": {
        "id": "ckot4dhy60Ga",
        "colab": {
          "base_uri": "https://localhost:8080/"
        },
        "outputId": "af42765e-4c53-4c5f-a15f-79db5e7e2712"
      },
      "execution_count": null,
      "outputs": [
        {
          "output_type": "stream",
          "name": "stdout",
          "text": [
            "몇 단을 외워볼까요? 5\n",
            "5 x 1 = 5\n",
            "5 x 1 = 5\n",
            "5 x 1 = 5\n",
            "5 x 1 = 5\n",
            "5 x 1 = 5\n",
            "5 x 1 = 5\n",
            "5 x 1 = 5\n",
            "5 x 1 = 5\n",
            "5 x 1 = 5\n"
          ]
        }
      ]
    },
    {
      "cell_type": "code",
      "source": [
        "\n",
        "\n",
        "\n"
      ],
      "metadata": {
        "id": "u-wzpqtj7mfH"
      },
      "execution_count": null,
      "outputs": []
    },
    {
      "cell_type": "code",
      "metadata": {
        "id": "wvdfZY6F7ChW",
        "colab": {
          "base_uri": "https://localhost:8080/"
        },
        "outputId": "2116e5ef-85b3-40cc-bcda-ca6a2f407f34"
      },
      "source": [
        "num = int(input('몇 단을 외워볼까요? '))\n",
        "\n",
        "for i in range(1, 10) : \n",
        "    print(num, 'x', i, '=', num*i)"
      ],
      "execution_count": null,
      "outputs": [
        {
          "output_type": "stream",
          "name": "stdout",
          "text": [
            "몇 단을 외워볼까요? 4\n",
            "4 x 1 = 4\n",
            "4 x 2 = 8\n",
            "4 x 3 = 12\n",
            "4 x 4 = 16\n",
            "4 x 5 = 20\n",
            "4 x 6 = 24\n",
            "4 x 7 = 28\n",
            "4 x 8 = 32\n",
            "4 x 9 = 36\n"
          ]
        }
      ]
    },
    {
      "cell_type": "markdown",
      "metadata": {
        "id": "_uWiKA3x7tVP"
      },
      "source": [
        "# 5. 랜덤 구구단 게임 작성하기\n",
        "\n",
        "랜덤으로 곱셈문제를 내고, 답을 맞추는 게임"
      ]
    },
    {
      "cell_type": "markdown",
      "metadata": {
        "id": "1CLls7wl72Yr"
      },
      "source": [
        "\n",
        "<img src='https://github.com/jinny520/22JG/blob/058ddb09976eea81a4328dcd31e0f619178825e1/imaage/3.for_lib.JPG?raw=true' width=500>\n",
        "<br/>\n",
        "<br/>\n"
      ]
    },
    {
      "cell_type": "markdown",
      "source": [
        "\n",
        "\n",
        "<img src='https://github.com/jinny520/22JG/blob/058ddb09976eea81a4328dcd31e0f619178825e1/imaage/4.for_libuse.JPG?raw=true' width=500>\n"
      ],
      "metadata": {
        "id": "7uoMtSwcnRtG"
      }
    },
    {
      "cell_type": "code",
      "metadata": {
        "colab": {
          "base_uri": "https://localhost:8080/"
        },
        "id": "dZkX0MhL7dsF",
        "outputId": "41d5faab-8b16-4e24-a292-bc9b22079a11"
      },
      "source": [
        "import random\n",
        "#random.random() 0부터 1사이의 랜덤한 실수 리턴\n",
        "random.random()"
      ],
      "execution_count": null,
      "outputs": [
        {
          "output_type": "execute_result",
          "data": {
            "text/plain": [
              "0.8852288622584805"
            ]
          },
          "metadata": {},
          "execution_count": 25
        }
      ]
    },
    {
      "cell_type": "code",
      "metadata": {
        "colab": {
          "base_uri": "https://localhost:8080/"
        },
        "id": "as2Vnvfb8eV-",
        "outputId": "265c2bbc-99e3-4b44-fe37-b26c83287f0f"
      },
      "source": [
        "help(random.random)"
      ],
      "execution_count": null,
      "outputs": [
        {
          "output_type": "stream",
          "name": "stdout",
          "text": [
            "Help on built-in function random:\n",
            "\n",
            "random(...) method of random.Random instance\n",
            "    random() -> x in the interval [0, 1).\n",
            "\n"
          ]
        }
      ]
    },
    {
      "cell_type": "code",
      "metadata": {
        "colab": {
          "base_uri": "https://localhost:8080/"
        },
        "id": "TZd2F3ZE8hMs",
        "outputId": "c8e108a2-3ddd-4898-ca40-209ae7aafb90"
      },
      "source": [
        "random.randint(1, 10)"
      ],
      "execution_count": null,
      "outputs": [
        {
          "output_type": "execute_result",
          "data": {
            "text/plain": [
              "1"
            ]
          },
          "metadata": {},
          "execution_count": 29
        }
      ]
    },
    {
      "cell_type": "code",
      "metadata": {
        "colab": {
          "base_uri": "https://localhost:8080/"
        },
        "id": "iRxkK6oJ9PaH",
        "outputId": "2ed2b6e0-4214-4c97-9b6a-28db66a17238"
      },
      "source": [
        "help(random.randint)"
      ],
      "execution_count": null,
      "outputs": [
        {
          "output_type": "stream",
          "name": "stdout",
          "text": [
            "Help on method randint in module random:\n",
            "\n",
            "randint(a, b) method of random.Random instance\n",
            "    Return random integer in range [a, b], including both end points.\n",
            "\n"
          ]
        }
      ]
    },
    {
      "cell_type": "markdown",
      "metadata": {
        "id": "xH8dkBjp9g2I"
      },
      "source": [
        "구구단 게임 형식 \n",
        "\n",
        "\n",
        "```\n",
        "구구단을 외자! 구구단을 외자! \n",
        "7 x 9 ? 63\n",
        "3 x 7 ? 21\n",
        "....\n",
        "```\n",
        "\n"
      ]
    },
    {
      "cell_type": "code",
      "metadata": {
        "colab": {
          "base_uri": "https://localhost:8080/"
        },
        "id": "X307OmrI9RAr",
        "outputId": "a8182d23-b2bf-420d-cf73-d1d2f47a0043"
      },
      "source": [
        "import random\n",
        "\n",
        "for i in range(5) : \n",
        "    num1 = random.randint(2, 9)\n",
        "    num2 = random.randint(1, 9)\n",
        "    print(num1, 'x', num2,'?')"
      ],
      "execution_count": null,
      "outputs": [
        {
          "output_type": "stream",
          "name": "stdout",
          "text": [
            "9 x 2 ?\n",
            "6 x 3 ?\n",
            "7 x 6 ?\n",
            "7 x 1 ?\n",
            "6 x 2 ?\n"
          ]
        }
      ]
    },
    {
      "cell_type": "markdown",
      "metadata": {
        "id": "WWRqZgGm-ZtL"
      },
      "source": [
        "구구단 게임에 입력칸을 만들어주자!"
      ]
    },
    {
      "cell_type": "code",
      "metadata": {
        "colab": {
          "base_uri": "https://localhost:8080/"
        },
        "id": "RMtCyLNw-Xii",
        "outputId": "2a533048-b2ea-4ebe-f798-274a85a4a0f9"
      },
      "source": [
        "import random\n",
        "\n",
        "for i in range(5) : \n",
        "    num1 = random.randint(2, 9)\n",
        "    num2 = random.randint(1, 9)\n",
        "    question = str(num1)+' x '+str(num2)+' ? '\n",
        "    input(question) "
      ],
      "execution_count": null,
      "outputs": [
        {
          "name": "stdout",
          "output_type": "stream",
          "text": [
            "8 x 1 ? 8\n",
            "5 x 1 ? 5\n",
            "4 x 9 ? 36\n",
            "3 x 4 ? 12\n",
            "2 x 3 ? 6\n"
          ]
        }
      ]
    },
    {
      "cell_type": "markdown",
      "metadata": {
        "id": "yhW5H934_Lw6"
      },
      "source": [
        "# 5. 반복문 안의 조건문\n",
        "랜덤 구구단 게임에서 입력된 답이 틀렸을 때, '땡! 정답은 00입니다' 출력하기"
      ]
    },
    {
      "cell_type": "code",
      "metadata": {
        "id": "7n-5WOkm-p0w",
        "colab": {
          "base_uri": "https://localhost:8080/"
        },
        "outputId": "021ce933-0d84-4210-c10c-7c2fa5125ff1"
      },
      "source": [
        "for i in range(5) : \n",
        "    num1 = random.randint(2, 9)\n",
        "    num2 = random.randint(1, 9)\n",
        "    question = str(num1)+' x '+str(num2)+' ? '\n",
        "    # 입력된 답을 변수에 저장하기\n",
        "    answer = int(input(question))\n",
        "\n",
        "    if answer != num1*num2 : \n",
        "        print('땡! 정답은', num1*num2)"
      ],
      "execution_count": null,
      "outputs": [
        {
          "output_type": "stream",
          "name": "stdout",
          "text": [
            "8 x 4 ? 45\n",
            "땡! 정답은 32\n",
            "8 x 2 ? 16\n",
            "7 x 5 ? 90\n",
            "땡! 정답은 35\n",
            "2 x 1 ? 5\n",
            "땡! 정답은 2\n",
            "3 x 6 ? 8\n",
            "땡! 정답은 18\n"
          ]
        }
      ]
    },
    {
      "cell_type": "markdown",
      "metadata": {
        "id": "-bbMjsKVyY4B"
      },
      "source": [
        "> 이차원리스트 반복 원리\n",
        "\n",
        "<img src = 'https://github.com/jinny520/22JG/blob/e1ba57f88b0b691cc2cb6a1617349725042bd761/imaage/5.for_2.PNG?raw=true' width=800>"
      ]
    },
    {
      "cell_type": "code",
      "source": [
        "abc = [[1,2,3], [4,5,6], [7,8,9]]\n",
        "\n",
        "for row in abc : \n",
        "    print(row)"
      ],
      "metadata": {
        "colab": {
          "base_uri": "https://localhost:8080/"
        },
        "id": "k76RTiXQVNfF",
        "outputId": "0724e85c-d176-4276-c1a3-df37de0e25b1"
      },
      "execution_count": null,
      "outputs": [
        {
          "output_type": "stream",
          "name": "stdout",
          "text": [
            "[1, 2, 3]\n",
            "[4, 5, 6]\n",
            "[7, 8, 9]\n"
          ]
        }
      ]
    },
    {
      "cell_type": "code",
      "source": [
        "# 모든 줄의 첫번째 데이터만 출력\n",
        "abc=[[1,2,3],[4,5,6],[7,8,9]]\n",
        "for row in abc : \n",
        "    print(row[0])"
      ],
      "metadata": {
        "id": "q-IIYfbgUepo",
        "colab": {
          "base_uri": "https://localhost:8080/"
        },
        "outputId": "73efac22-bb36-4fb5-fbdc-e7e51f89f4f7"
      },
      "execution_count": null,
      "outputs": [
        {
          "output_type": "stream",
          "name": "stdout",
          "text": [
            "1\n",
            "4\n",
            "7\n"
          ]
        }
      ]
    },
    {
      "cell_type": "code",
      "source": [
        "# 모든 줄의 마지막 데이터(세번째 열)만 출력\n",
        "for row in abc : \n",
        "    print(row[-1])"
      ],
      "metadata": {
        "id": "zM7Y5BuYUjev",
        "colab": {
          "base_uri": "https://localhost:8080/"
        },
        "outputId": "6f6e5c8d-1cd7-4f6d-c918-7e618ddc70e2"
      },
      "execution_count": null,
      "outputs": [
        {
          "output_type": "stream",
          "name": "stdout",
          "text": [
            "3\n",
            "6\n",
            "9\n"
          ]
        }
      ]
    },
    {
      "cell_type": "markdown",
      "source": [
        "# 7. 오늘의 과제 \n",
        "반복문을 활용한 프로그램을 작성하세요. 과제1, 2 중 1개 선택하여 선택하여 수행\n",
        "\n",
        "1. 아래 조건을 만족하는 프로그램을 작성하시오  \n",
        " *   1부터 30까지 수의\n",
        " *   홀수와 짝수 여부를 판별하는 프로그램을 작성\n",
        "\n",
        "2.   반복문을 활용한 창의적인 코드 작성 (Bonus점수)\n",
        " *   반복문은 반드시 사용  \n",
        " *   print, input, 변수, 조건문, 리스트 중 3가지 사용 \n",
        " *  수업시간에 사용한 예제는 창의적인 답변으로 인정X\n",
        "\n",
        "\n",
        "\n"
      ],
      "metadata": {
        "id": "UvRjZ42s_VQP"
      }
    },
    {
      "cell_type": "code",
      "source": [
        "#예시코드\n",
        "for i in range(3,31) : \n",
        "  if i%2 == 1 : \n",
        "    print(i, '짝수')\n",
        "  else : \n",
        "    print(i, '짝수')"
      ],
      "metadata": {
        "id": "4RY8M3BX_b0e",
        "colab": {
          "base_uri": "https://localhost:8080/"
        },
        "outputId": "f1f1ae30-767d-4f4b-95e2-55132514a9a7"
      },
      "execution_count": null,
      "outputs": [
        {
          "output_type": "stream",
          "name": "stdout",
          "text": [
            "0 짝수\n",
            "1 짝수\n",
            "2 짝수\n",
            "3 짝수\n",
            "4 짝수\n",
            "5 짝수\n",
            "6 짝수\n",
            "7 짝수\n",
            "8 짝수\n",
            "9 짝수\n",
            "10 짝수\n",
            "11 짝수\n",
            "12 짝수\n",
            "13 짝수\n",
            "14 짝수\n",
            "15 짝수\n",
            "16 짝수\n",
            "17 짝수\n",
            "18 짝수\n",
            "19 짝수\n",
            "20 짝수\n",
            "21 짝수\n",
            "22 짝수\n",
            "23 짝수\n",
            "24 짝수\n",
            "25 짝수\n",
            "26 짝수\n",
            "27 짝수\n",
            "28 짝수\n",
            "29 짝수\n",
            "30 짝수\n"
          ]
        }
      ]
    },
    {
      "cell_type": "code",
      "source": [
        ""
      ],
      "metadata": {
        "id": "IAWmXigbRLWM"
      },
      "execution_count": null,
      "outputs": []
    },
    {
      "cell_type": "code",
      "source": [
        ""
      ],
      "metadata": {
        "id": "0UTHgLt6RLSy"
      },
      "execution_count": null,
      "outputs": []
    },
    {
      "cell_type": "code",
      "source": [
        ""
      ],
      "metadata": {
        "id": "4SrlMdrpRLLP"
      },
      "execution_count": null,
      "outputs": []
    },
    {
      "cell_type": "code",
      "source": [
        ""
      ],
      "metadata": {
        "id": "tpuOaKeqRLEh"
      },
      "execution_count": null,
      "outputs": []
    },
    {
      "cell_type": "code",
      "source": [
        ""
      ],
      "metadata": {
        "id": "v-8bYv7tF1ib"
      },
      "execution_count": null,
      "outputs": []
    }
  ]
}