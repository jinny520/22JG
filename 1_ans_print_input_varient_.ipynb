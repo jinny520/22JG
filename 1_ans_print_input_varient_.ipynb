{
  "nbformat": 4,
  "nbformat_minor": 0,
  "metadata": {
    "colab": {
      "name": "1.ans_print_input_varient .ipynb",
      "provenance": [],
      "collapsed_sections": [],
      "include_colab_link": true
    },
    "kernelspec": {
      "name": "python3",
      "display_name": "Python 3"
    }
  },
  "cells": [
    {
      "cell_type": "markdown",
      "metadata": {
        "id": "view-in-github",
        "colab_type": "text"
      },
      "source": [
        "<a href=\"https://colab.research.google.com/github/jinny520/22JG/blob/main/1_ans_print_input_varient_.ipynb\" target=\"_parent\"><img src=\"https://colab.research.google.com/assets/colab-badge.svg\" alt=\"Open In Colab\"/></a>"
      ]
    },
    {
      "cell_type": "markdown",
      "metadata": {
        "id": "6VICvDDuPykk"
      },
      "source": [
        "\n",
        "# 1. 파이썬 명령어 형식\n",
        "<img src='https://github.com/teacher-jiejie/allinone_AI/blob/images/0_%EB%AA%85%EB%A0%B9%EC%96%B4.png?raw=true' width=400>"
      ]
    },
    {
      "cell_type": "markdown",
      "metadata": {
        "id": "LJAHyqRXU_tN"
      },
      "source": [
        "# 2. 출력명령어 \n",
        "### 출력 명령어 형식\n",
        "\n",
        "\n",
        "> print( 출력할 내용 )\n",
        "\n",
        "\n"
      ]
    },
    {
      "cell_type": "code",
      "metadata": {
        "id": "fHog4iYYL-q4",
        "colab": {
          "base_uri": "https://localhost:8080/"
        },
        "outputId": "9e8a0388-f881-47d5-a7bf-305507675fd5"
      },
      "source": [
        "# 숫자 출력 \n",
        "print(311)"
      ],
      "execution_count": null,
      "outputs": [
        {
          "output_type": "stream",
          "name": "stdout",
          "text": [
            "311\n"
          ]
        }
      ]
    },
    {
      "cell_type": "code",
      "metadata": {
        "id": "-Mn2gKC1y2XL",
        "colab": {
          "base_uri": "https://localhost:8080/",
          "height": 136
        },
        "outputId": "9ba09a77-2a97-41fe-c7fd-2864836e74eb"
      },
      "source": [
        "# 문자 출력 \n",
        "print(3월 11일)"
      ],
      "execution_count": null,
      "outputs": [
        {
          "output_type": "error",
          "ename": "SyntaxError",
          "evalue": "ignored",
          "traceback": [
            "\u001b[0;36m  File \u001b[0;32m\"<ipython-input-2-d4554fe5f8b2>\"\u001b[0;36m, line \u001b[0;32m2\u001b[0m\n\u001b[0;31m    print(3월 11일)\u001b[0m\n\u001b[0m           ^\u001b[0m\n\u001b[0;31mSyntaxError\u001b[0m\u001b[0;31m:\u001b[0m invalid syntax\n"
          ]
        }
      ]
    },
    {
      "cell_type": "markdown",
      "metadata": {
        "id": "KqFYkVtu_foZ"
      },
      "source": [
        "### 문자는 따옴표로 감싸주어야 함\n",
        "> print('문자')"
      ]
    },
    {
      "cell_type": "code",
      "metadata": {
        "id": "HndD3I4ybonQ",
        "colab": {
          "base_uri": "https://localhost:8080/"
        },
        "outputId": "5d0420cf-5b57-47ad-dcd2-b52ea4c207c2"
      },
      "source": [
        "# 문자는 따옴표로 감싸주어야 함\n",
        "print('3월 11일')"
      ],
      "execution_count": null,
      "outputs": [
        {
          "output_type": "stream",
          "name": "stdout",
          "text": [
            "3월 11일\n"
          ]
        }
      ]
    },
    {
      "cell_type": "code",
      "metadata": {
        "id": "GXO9r4k0_M42",
        "colab": {
          "base_uri": "https://localhost:8080/",
          "height": 173
        },
        "outputId": "e0212fdc-0843-45aa-c4bc-b254ce708170"
      },
      "source": [
        "print(렛츠기릿파이썬)"
      ],
      "execution_count": null,
      "outputs": [
        {
          "output_type": "error",
          "ename": "NameError",
          "evalue": "ignored",
          "traceback": [
            "\u001b[0;31m---------------------------------------------------------------------------\u001b[0m",
            "\u001b[0;31mNameError\u001b[0m                                 Traceback (most recent call last)",
            "\u001b[0;32m<ipython-input-4-1d1eabde5ef7>\u001b[0m in \u001b[0;36m<module>\u001b[0;34m()\u001b[0m\n\u001b[0;32m----> 1\u001b[0;31m \u001b[0mprint\u001b[0m\u001b[0;34m(\u001b[0m\u001b[0m렛츠기릿파이썬\u001b[0m\u001b[0;34m)\u001b[0m\u001b[0;34m\u001b[0m\u001b[0;34m\u001b[0m\u001b[0m\n\u001b[0m",
            "\u001b[0;31mNameError\u001b[0m: name '렛츠기릿파이썬' is not defined"
          ]
        }
      ]
    },
    {
      "cell_type": "code",
      "metadata": {
        "colab": {
          "base_uri": "https://localhost:8080/"
        },
        "id": "_eXE0Zei_TnT",
        "outputId": "c342675a-022f-42c6-a65f-e8ff7ba90caf"
      },
      "source": [
        "print('렛츠기릿파이썬')"
      ],
      "execution_count": null,
      "outputs": [
        {
          "output_type": "stream",
          "name": "stdout",
          "text": [
            "렛츠기릿파이썬\n"
          ]
        }
      ]
    },
    {
      "cell_type": "code",
      "metadata": {
        "id": "RqdNnVh2bopV",
        "colab": {
          "base_uri": "https://localhost:8080/"
        },
        "outputId": "9336e415-4a0c-44ff-bc40-60fd87b5cf69"
      },
      "source": [
        "# 연산하여 출력하기\n",
        "print(12+34)\n",
        "print(12-34)\n",
        "print(12*34)\n",
        "print(12/34)"
      ],
      "execution_count": null,
      "outputs": [
        {
          "output_type": "stream",
          "name": "stdout",
          "text": [
            "46\n",
            "-22\n",
            "408\n",
            "0.35294117647058826\n"
          ]
        }
      ]
    },
    {
      "cell_type": "code",
      "metadata": {
        "id": "h2t7k_yh-IMC",
        "colab": {
          "base_uri": "https://localhost:8080/"
        },
        "outputId": "96ecd392-efc9-4e49-bce4-48c714d22fdd"
      },
      "source": [
        "# 숫자라 하더라도 따옴표로 감싸면 문자로 인식\n",
        "print('12+34')"
      ],
      "execution_count": null,
      "outputs": [
        {
          "output_type": "stream",
          "name": "stdout",
          "text": [
            "12+34\n"
          ]
        }
      ]
    },
    {
      "cell_type": "code",
      "metadata": {
        "id": "osxJgfZU_b3y",
        "colab": {
          "base_uri": "https://localhost:8080/"
        },
        "outputId": "c7e31e9e-a23c-4f0f-e2ff-6b14151a5582"
      },
      "source": [
        "# ** 제곱\n",
        "print(5**3)\n",
        "# //  몫\n",
        "print(5//3)\n",
        "# % 나머지\n",
        "print(5%2) "
      ],
      "execution_count": null,
      "outputs": [
        {
          "output_type": "stream",
          "name": "stdout",
          "text": [
            "125\n",
            "1\n",
            "1\n"
          ]
        }
      ]
    },
    {
      "cell_type": "markdown",
      "metadata": {
        "id": "OEQFUbNCA9fm"
      },
      "source": [
        "### 연결하여 출력하기 \n",
        "> print(  ,  )\n",
        "<br/>\n",
        "> print(  +  )"
      ]
    },
    {
      "cell_type": "code",
      "metadata": {
        "id": "O0URZFHFAFfE",
        "colab": {
          "base_uri": "https://localhost:8080/"
        },
        "outputId": "f312bf0a-206f-4af8-e960-d9ac34a15ed4"
      },
      "source": [
        "# 콤마, 로 연결하여 출력하기\n",
        "print('파이썬' , '안녕!')"
      ],
      "execution_count": null,
      "outputs": [
        {
          "output_type": "stream",
          "name": "stdout",
          "text": [
            "파이썬 안녕!\n"
          ]
        }
      ]
    },
    {
      "cell_type": "code",
      "metadata": {
        "id": "QEjssp5gAU2N",
        "colab": {
          "base_uri": "https://localhost:8080/"
        },
        "outputId": "3a201dc6-7a86-4ed5-95bb-3769940b0f2f"
      },
      "source": [
        "# 더하기 +로 연결하여 출력하기\n",
        "print('파이썬' + '안녕!')"
      ],
      "execution_count": null,
      "outputs": [
        {
          "output_type": "stream",
          "name": "stdout",
          "text": [
            "파이썬안녕!\n"
          ]
        }
      ]
    },
    {
      "cell_type": "code",
      "metadata": {
        "id": "BXvFmqhtAzy1",
        "colab": {
          "base_uri": "https://localhost:8080/"
        },
        "outputId": "26d341e6-71f3-4dab-c96e-9fce08ec5778"
      },
      "source": [
        "print('파이썬', 12*34)"
      ],
      "execution_count": null,
      "outputs": [
        {
          "output_type": "stream",
          "name": "stdout",
          "text": [
            "파이썬 408\n"
          ]
        }
      ]
    },
    {
      "cell_type": "code",
      "metadata": {
        "id": "Pme3T740B8JM",
        "colab": {
          "base_uri": "https://localhost:8080/",
          "height": 173
        },
        "outputId": "871f4394-4a96-4207-c187-d7980d5d21ef"
      },
      "source": [
        "print('파이썬'+ 12*34)"
      ],
      "execution_count": null,
      "outputs": [
        {
          "output_type": "error",
          "ename": "TypeError",
          "evalue": "ignored",
          "traceback": [
            "\u001b[0;31m---------------------------------------------------------------------------\u001b[0m",
            "\u001b[0;31mTypeError\u001b[0m                                 Traceback (most recent call last)",
            "\u001b[0;32m<ipython-input-12-1272da14889d>\u001b[0m in \u001b[0;36m<module>\u001b[0;34m()\u001b[0m\n\u001b[0;32m----> 1\u001b[0;31m \u001b[0mprint\u001b[0m\u001b[0;34m(\u001b[0m\u001b[0;34m'파이썬'\u001b[0m\u001b[0;34m+\u001b[0m \u001b[0;36m12\u001b[0m\u001b[0;34m*\u001b[0m\u001b[0;36m34\u001b[0m\u001b[0;34m)\u001b[0m\u001b[0;34m\u001b[0m\u001b[0;34m\u001b[0m\u001b[0m\n\u001b[0m",
            "\u001b[0;31mTypeError\u001b[0m: can only concatenate str (not \"int\") to str"
          ]
        }
      ]
    },
    {
      "cell_type": "code",
      "source": [
        "print('파이썬'+ '12*34')"
      ],
      "metadata": {
        "id": "Mzi9hvoVTi6v",
        "colab": {
          "base_uri": "https://localhost:8080/"
        },
        "outputId": "f26ae31c-2b0e-4209-f2d7-3d7433707dd6"
      },
      "execution_count": null,
      "outputs": [
        {
          "output_type": "stream",
          "name": "stdout",
          "text": [
            "파이썬12*34\n"
          ]
        }
      ]
    },
    {
      "cell_type": "markdown",
      "metadata": {
        "id": "Y5VKN8McEun1"
      },
      "source": [
        "실습 1. 본인 이름, 관심분야를 한 줄로 출력해보기 "
      ]
    },
    {
      "cell_type": "code",
      "metadata": {
        "id": "tZAX0aBQEtsJ",
        "colab": {
          "base_uri": "https://localhost:8080/"
        },
        "outputId": "23af0f7c-35e3-4e94-9f1c-ea8348ac90d5"
      },
      "source": [
        "print('은진쌤' , '인공지능')\n",
        "print('은진쌤' + '인공지능')"
      ],
      "execution_count": null,
      "outputs": [
        {
          "output_type": "stream",
          "name": "stdout",
          "text": [
            "은진쌤 인공지능\n",
            "은진쌤인공지능\n"
          ]
        }
      ]
    },
    {
      "cell_type": "markdown",
      "metadata": {
        "id": "zNlNwOErClxr"
      },
      "source": [
        "# 3. 입력명령어\n",
        "### 입력명령어 형식\n",
        "> input('입력안내문')"
      ]
    },
    {
      "cell_type": "code",
      "metadata": {
        "id": "P35K2YD_B_fJ",
        "colab": {
          "base_uri": "https://localhost:8080/",
          "height": 54
        },
        "outputId": "5b88510d-5a32-478a-83e2-ef2e5ca56410"
      },
      "source": [
        "input()"
      ],
      "execution_count": null,
      "outputs": [
        {
          "name": "stdout",
          "output_type": "stream",
          "text": [
            "123\n"
          ]
        },
        {
          "output_type": "execute_result",
          "data": {
            "text/plain": [
              "'123'"
            ],
            "application/vnd.google.colaboratory.intrinsic+json": {
              "type": "string"
            }
          },
          "metadata": {},
          "execution_count": 2
        }
      ]
    },
    {
      "cell_type": "code",
      "metadata": {
        "colab": {
          "base_uri": "https://localhost:8080/",
          "height": 54
        },
        "id": "g-WfHArdGA8b",
        "outputId": "41bfed0f-f0a6-4892-cdc6-cef02d2ab375"
      },
      "source": [
        "input('생일 : ')"
      ],
      "execution_count": null,
      "outputs": [
        {
          "name": "stdout",
          "output_type": "stream",
          "text": [
            "생일 : 2.50\n"
          ]
        },
        {
          "output_type": "execute_result",
          "data": {
            "text/plain": [
              "'2.50'"
            ],
            "application/vnd.google.colaboratory.intrinsic+json": {
              "type": "string"
            }
          },
          "metadata": {},
          "execution_count": 3
        }
      ]
    },
    {
      "cell_type": "code",
      "metadata": {
        "colab": {
          "base_uri": "https://localhost:8080/",
          "height": 53
        },
        "id": "WmWrf3RZGMq1",
        "outputId": "bd5d37db-ac97-4b0e-efe5-9d4f9e1a2fad"
      },
      "source": [
        "input('아이디 : ')"
      ],
      "execution_count": null,
      "outputs": [
        {
          "name": "stdout",
          "output_type": "stream",
          "text": [
            "아이디 : 123\n"
          ]
        },
        {
          "output_type": "execute_result",
          "data": {
            "text/plain": [
              "'123'"
            ],
            "application/vnd.google.colaboratory.intrinsic+json": {
              "type": "string"
            }
          },
          "metadata": {},
          "execution_count": 4
        }
      ]
    },
    {
      "cell_type": "code",
      "metadata": {
        "id": "dlc34WbEGQLy"
      },
      "source": [
        "input('아이디 : ')\n",
        "input('비밀번호 : ')"
      ],
      "execution_count": null,
      "outputs": []
    },
    {
      "cell_type": "markdown",
      "metadata": {
        "id": "5TblMxseGyGG"
      },
      "source": [
        "### 순차구조 \n",
        "\n",
        "<img src='https://github.com/teacher-jiejie/allinone_AI/blob/images/66_%E1%84%89%E1%85%AE%E1%86%AB%E1%84%8E%E1%85%A1%E1%84%80%E1%85%AE%E1%84%8C%E1%85%A9.png?raw=true' width=600>"
      ]
    },
    {
      "cell_type": "code",
      "metadata": {
        "colab": {
          "base_uri": "https://localhost:8080/"
        },
        "id": "CfX6PoPdGX4T",
        "outputId": "0cc86bd4-5f7c-443d-b224-cc2a3ce9b8e0"
      },
      "source": [
        "print('---진건고 웹사이트 회원가입 ---')\n",
        "input('아이디 : ')\n",
        "print('진건고 웹사이트 가입을 환영합니다!')"
      ],
      "execution_count": null,
      "outputs": [
        {
          "output_type": "stream",
          "name": "stdout",
          "text": [
            "---진건고 웹사이트 회원가입 ---\n",
            "아이디 : jinny1234\n",
            "진건고 웹사이트 가입을 환영합니다!\n"
          ]
        }
      ]
    },
    {
      "cell_type": "markdown",
      "source": [
        "# 4. 변수\n",
        "\n",
        "\n",
        "> 변수이름 = 저장할 데이터\n",
        "\n",
        "\n",
        "<img src = 'https://github.com/teacher-jiejie/allinone_AI/blob/images/%E1%84%87%E1%85%A7%E1%86%AB%E1%84%89%E1%85%AE%E1%84%8B%E1%85%B5%E1%84%86%E1%85%B5%E1%84%8C%E1%85%B5.png?raw=true' width =500>\n",
        "\n",
        "\n"
      ],
      "metadata": {
        "id": "m7bXM8B3bzNL"
      }
    },
    {
      "cell_type": "code",
      "source": [
        "a = '안녕'\n",
        "print(a)"
      ],
      "metadata": {
        "id": "BU2vM3u8bysJ"
      },
      "execution_count": null,
      "outputs": []
    },
    {
      "cell_type": "code",
      "metadata": {
        "id": "3bE5MP4lIutc"
      },
      "source": [
        "print('a')"
      ],
      "execution_count": null,
      "outputs": []
    },
    {
      "cell_type": "code",
      "source": [
        "b = '학생'\n",
        "c = '고등'\n",
        "d = '대'\n",
        "print(c+b)"
      ],
      "metadata": {
        "id": "_22k-IG8b5tn",
        "colab": {
          "base_uri": "https://localhost:8080/"
        },
        "outputId": "e5c9517a-2126-4199-9f86-46f99e903fa7"
      },
      "execution_count": null,
      "outputs": [
        {
          "output_type": "stream",
          "name": "stdout",
          "text": [
            "고등학생\n"
          ]
        }
      ]
    },
    {
      "cell_type": "code",
      "source": [
        "print(d+b)"
      ],
      "metadata": {
        "id": "xSggMbkdb6YW"
      },
      "execution_count": null,
      "outputs": []
    },
    {
      "cell_type": "markdown",
      "source": [
        "### 변수를 활용하여 연산하기 \n",
        "1) 과일 가격 계산하기"
      ],
      "metadata": {
        "id": "6qvYqOE2cL6Q"
      }
    },
    {
      "cell_type": "code",
      "source": [
        "apple = 1200\n",
        "banana = 800\n",
        "kiwi = 1700"
      ],
      "metadata": {
        "id": "E7grx-4pcNdB"
      },
      "execution_count": null,
      "outputs": []
    },
    {
      "cell_type": "code",
      "source": [
        "# 사과 3개, 바나나1개, 키위2개 구매한 가격은?\n",
        "apple*3 + banana*1 + kiwi*2"
      ],
      "metadata": {
        "id": "0zvE5f1xcPLl"
      },
      "execution_count": null,
      "outputs": []
    },
    {
      "cell_type": "code",
      "source": [
        "price = apple*3 + banana*1 + kiwi*2\n",
        "print(price)"
      ],
      "metadata": {
        "id": "h6pavbd3cQ3q"
      },
      "execution_count": null,
      "outputs": []
    },
    {
      "cell_type": "markdown",
      "source": [
        "vip는 20% 할인된다. 동일한 물건을 구매했을 때 vip가 내는 가격을 새로운 변수에 저장하여 출력하기"
      ],
      "metadata": {
        "id": "X45zmdqdcTaG"
      }
    },
    {
      "cell_type": "code",
      "source": [
        "vip_price = price * 0.8"
      ],
      "metadata": {
        "id": "l1J5_ZbCcVIt"
      },
      "execution_count": null,
      "outputs": []
    },
    {
      "cell_type": "code",
      "source": [
        "print('vip가 되시면',price,'원을',vip_price,'원에 구매 가능합니다! ')"
      ],
      "metadata": {
        "id": "01i12BlUcXQH"
      },
      "execution_count": null,
      "outputs": []
    },
    {
      "cell_type": "markdown",
      "source": [
        "2) 1년마다 키가 10cm씩 자라는 농구선수가 있다. \n",
        "\n",
        "\n",
        "*   2017년 - 175.5cm\n",
        "*   2018년 - 185.5cm\n",
        "*   2019년 - 195.5cm\n",
        "*   2020년 - 205.5cm\n",
        "\n",
        "\n",
        "년도별 농구선수의 키를 출력해보자\n"
      ],
      "metadata": {
        "id": "pWmBGNADcbNC"
      }
    },
    {
      "cell_type": "code",
      "source": [
        "year = 2017\n",
        "height = 175.5\n",
        "print(year,'년 -', height,'cm')\n",
        "\n",
        "year = year + 1\n",
        "height = height + 10\n",
        "print(year,'년 -', height,'cm')\n",
        "\n",
        "year = year + 1\n",
        "height = height + 10\n",
        "print(year,'년 -', height,'cm')\n",
        "\n",
        "year = year + 1\n",
        "height = height + 10\n",
        "print(year,'년 -', height,'cm')"
      ],
      "metadata": {
        "id": "vXM25GFYceHB",
        "colab": {
          "base_uri": "https://localhost:8080/"
        },
        "outputId": "91b3a2e3-d766-4dff-dbd2-03f6ec3b1e1e"
      },
      "execution_count": null,
      "outputs": [
        {
          "output_type": "stream",
          "name": "stdout",
          "text": [
            "2017 년 - 175.5 cm\n",
            "2018 년 - 185.5 cm\n",
            "2019 년 - 195.5 cm\n",
            "2020 년 - 205.5 cm\n"
          ]
        }
      ]
    },
    {
      "cell_type": "code",
      "source": [
        "year = 2017\n",
        "height = 175.5\n",
        "print(year,'년 -', height,'cm')\n",
        "\n",
        "year += 1\n",
        "height += 10 # height = height + 10\n",
        "print(year,'년 -', height,'cm')\n",
        "\n",
        "year += 1\n",
        "height += 10\n",
        "print(year,'년 -', height,'cm')\n",
        "\n",
        "year += 1\n",
        "height += 10\n",
        "print(year,'년 -', height,'cm')"
      ],
      "metadata": {
        "id": "zwxsP_D7cn5j",
        "colab": {
          "base_uri": "https://localhost:8080/"
        },
        "outputId": "b6afe7a4-9e95-4efd-bf33-c38c68d8453c"
      },
      "execution_count": null,
      "outputs": [
        {
          "output_type": "stream",
          "name": "stdout",
          "text": [
            "2017 년 - 175.5 cm\n",
            "2018 년 - 185.5 cm\n",
            "2019 년 - 195.5 cm\n",
            "2020 년 - 205.5 cm\n"
          ]
        }
      ]
    },
    {
      "cell_type": "markdown",
      "source": [
        "> 동일한 변수를 증가/감소시킬 때\n",
        "\n",
        "```\n",
        "# a에 3을 더하시오\n",
        "a = a+3\n",
        "```\n",
        "\n",
        "```\n",
        "# 간략하게 표현\n",
        "a += 3\n",
        "```"
      ],
      "metadata": {
        "id": "3V_vA3qfcqDz"
      }
    },
    {
      "cell_type": "code",
      "source": [
        "year /= 1"
      ],
      "metadata": {
        "id": "MwiHddYvcvk2"
      },
      "execution_count": null,
      "outputs": []
    },
    {
      "cell_type": "markdown",
      "source": [
        "> 입력받아 저장하기"
      ],
      "metadata": {
        "id": "uezonQJxcwrO"
      }
    },
    {
      "cell_type": "code",
      "source": [
        "id = input('아이디 : ')\n",
        "print('입력하신 아이디는', id)"
      ],
      "metadata": {
        "colab": {
          "base_uri": "https://localhost:8080/"
        },
        "id": "XUd6iU5ncyNc",
        "outputId": "34430839-335e-4cce-bef9-6c2360c35e84"
      },
      "execution_count": null,
      "outputs": [
        {
          "output_type": "stream",
          "name": "stdout",
          "text": [
            "아이디 : 123123\n",
            "입력하신 아이디는 123123\n"
          ]
        }
      ]
    },
    {
      "cell_type": "markdown",
      "source": [
        "# 2. 데이터타입\n",
        "\n",
        "> 정수 int\n",
        "\n",
        "> 실수 float\n",
        "\n",
        "> 문자 str"
      ],
      "metadata": {
        "id": "rSOKNKrfc4eE"
      }
    },
    {
      "cell_type": "code",
      "source": [
        "type(apple)"
      ],
      "metadata": {
        "id": "Hk8ixWfLc6xC",
        "colab": {
          "base_uri": "https://localhost:8080/"
        },
        "outputId": "c5901d28-895e-46fc-abae-3c5ef344a950"
      },
      "execution_count": null,
      "outputs": [
        {
          "output_type": "execute_result",
          "data": {
            "text/plain": [
              "int"
            ]
          },
          "metadata": {},
          "execution_count": 3
        }
      ]
    },
    {
      "cell_type": "code",
      "source": [
        "type(banana)"
      ],
      "metadata": {
        "id": "iIwi3YFJc8Pv",
        "colab": {
          "base_uri": "https://localhost:8080/"
        },
        "outputId": "75763988-651d-41fa-9be1-191d432de275"
      },
      "execution_count": null,
      "outputs": [
        {
          "output_type": "execute_result",
          "data": {
            "text/plain": [
              "int"
            ]
          },
          "metadata": {},
          "execution_count": 7
        }
      ]
    },
    {
      "cell_type": "code",
      "source": [
        "type(vip_price)"
      ],
      "metadata": {
        "id": "qisUtuH0c-JZ",
        "colab": {
          "base_uri": "https://localhost:8080/"
        },
        "outputId": "7c14eadb-fff5-47ae-ca6a-69c43e17a246"
      },
      "execution_count": null,
      "outputs": [
        {
          "output_type": "execute_result",
          "data": {
            "text/plain": [
              "float"
            ]
          },
          "metadata": {},
          "execution_count": 8
        }
      ]
    },
    {
      "cell_type": "code",
      "source": [
        "type(b) #b = '학생'"
      ],
      "metadata": {
        "id": "2m2yMFHOc_QJ"
      },
      "execution_count": null,
      "outputs": []
    },
    {
      "cell_type": "markdown",
      "source": [
        "# 3. 데이터타입 변경하기 \n",
        "변경하려는 데이터타입으로 감싸주기\n",
        "\n",
        "> 정수로 변경하기\n",
        "<br/> int(변수)\n",
        "\n",
        "> 실수로 변경하기\n",
        "<br/> float(변수)\n",
        "\n",
        "> 문자로 변경하기\n",
        "<br/> str(변수)\n",
        "\n"
      ],
      "metadata": {
        "id": "ifdwz58gdSh1"
      }
    },
    {
      "cell_type": "code",
      "source": [
        "# 정수를 실수로 \n",
        "apple=1200\n",
        "print(apple)\n",
        "apple = float(apple)\n",
        "print(apple)"
      ],
      "metadata": {
        "id": "qACRwdmZdGW2",
        "colab": {
          "base_uri": "https://localhost:8080/"
        },
        "outputId": "e12d0b4c-c5c0-4183-b2d2-484fd6bb9bb9"
      },
      "execution_count": null,
      "outputs": [
        {
          "output_type": "stream",
          "name": "stdout",
          "text": [
            "1200\n",
            "1200.0\n"
          ]
        }
      ]
    },
    {
      "cell_type": "code",
      "source": [
        "# 실수를 정수로\n",
        "vip_price=1800.0\n",
        "print(vip_price)\n",
        "vip_price = int(vip_price)\n",
        "print(vip_price)"
      ],
      "metadata": {
        "id": "N0UQjlsCdbUX",
        "colab": {
          "base_uri": "https://localhost:8080/"
        },
        "outputId": "3d9148af-9105-42f2-a971-c35730a68940"
      },
      "execution_count": null,
      "outputs": [
        {
          "output_type": "stream",
          "name": "stdout",
          "text": [
            "1800.0\n",
            "1800\n"
          ]
        }
      ]
    },
    {
      "cell_type": "markdown",
      "source": [
        "# 4. 원의 둘레, 넓이, 구의 겉넓이, 부피 구하기\n",
        "\n",
        "<img src='https://github.com/teacher-jiejie/allinone_AI/blob/images/%EC%9B%90%20%EA%B4%80%EB%A0%A8%20%EA%B3%B5%EC%8B%9D.png?raw=true' width = 300>"
      ],
      "metadata": {
        "id": "Dor1Pk8JddKY"
      }
    },
    {
      "cell_type": "code",
      "source": [
        "r = 5\n",
        "p = 3.141592\n",
        "\n",
        "# 원의 둘레\n",
        "c_len = 2*p*r\n",
        "\n",
        "# 원의 넓이\n",
        "c_area = p*r**2\n",
        "\n",
        "# 구의 겉넓이\n",
        "s_area = 4*p*r**2\n",
        "\n",
        "# 구의 부피 \n",
        "s_volume = 4/3*p*r**3\n",
        "\n",
        "print('원의 둘레는', c_len)\n",
        "print('원의 넓이는', c_area)\n",
        "print('구의 겉넓이는', s_area)\n",
        "print('구의 부피는', s_volume)"
      ],
      "metadata": {
        "id": "b0ZcyXIIeKw0"
      },
      "execution_count": null,
      "outputs": []
    },
    {
      "cell_type": "markdown",
      "source": [
        "실습 : 반지름을 입력받아서, 입력받은 반지름을 갖는 원의 둘레, 넓이, 구 겉넓이, 부피를 구하시오"
      ],
      "metadata": {
        "id": "wnSjGcPreL7k"
      }
    },
    {
      "cell_type": "code",
      "source": [
        "r = input('반지름은? ')\n",
        "p = 3.141592\n",
        "\n",
        "# 원의 둘레\n",
        "c_len = 2*p*r\n",
        "\n",
        "# 원의 넓이\n",
        "c_area = p*r**2\n",
        "\n",
        "# 구의 겉넓이\n",
        "s_area = 4*p*r**2\n",
        "\n",
        "# 구의 부피 \n",
        "s_volume = 4/3*p*r**3\n",
        "\n",
        "print('원의 둘레는', c_len)\n",
        "print('원의 넓이는', c_area)\n",
        "print('구의 겉넓이는', s_area)\n",
        "print('구의 부피는', s_volume)"
      ],
      "metadata": {
        "id": "Juci5WMKeNpZ",
        "colab": {
          "base_uri": "https://localhost:8080/",
          "height": 264
        },
        "outputId": "8a89ee62-06d7-40ab-bf4b-f6116cadb237"
      },
      "execution_count": null,
      "outputs": [
        {
          "name": "stdout",
          "output_type": "stream",
          "text": [
            "반지름은? 12\n"
          ]
        },
        {
          "output_type": "error",
          "ename": "TypeError",
          "evalue": "ignored",
          "traceback": [
            "\u001b[0;31m---------------------------------------------------------------------------\u001b[0m",
            "\u001b[0;31mTypeError\u001b[0m                                 Traceback (most recent call last)",
            "\u001b[0;32m<ipython-input-43-9cd5e88e308b>\u001b[0m in \u001b[0;36m<module>\u001b[0;34m()\u001b[0m\n\u001b[1;32m      3\u001b[0m \u001b[0;34m\u001b[0m\u001b[0m\n\u001b[1;32m      4\u001b[0m \u001b[0;31m# 원의 둘레\u001b[0m\u001b[0;34m\u001b[0m\u001b[0;34m\u001b[0m\u001b[0;34m\u001b[0m\u001b[0m\n\u001b[0;32m----> 5\u001b[0;31m \u001b[0mc_len\u001b[0m \u001b[0;34m=\u001b[0m \u001b[0;36m2\u001b[0m\u001b[0;34m*\u001b[0m\u001b[0mp\u001b[0m\u001b[0;34m*\u001b[0m\u001b[0mr\u001b[0m\u001b[0;34m\u001b[0m\u001b[0;34m\u001b[0m\u001b[0m\n\u001b[0m\u001b[1;32m      6\u001b[0m \u001b[0;34m\u001b[0m\u001b[0m\n\u001b[1;32m      7\u001b[0m \u001b[0;31m# 원의 넓이\u001b[0m\u001b[0;34m\u001b[0m\u001b[0;34m\u001b[0m\u001b[0;34m\u001b[0m\u001b[0m\n",
            "\u001b[0;31mTypeError\u001b[0m: can't multiply sequence by non-int of type 'float'"
          ]
        }
      ]
    },
    {
      "cell_type": "code",
      "source": [
        "input('반지름은? ')\n"
      ],
      "metadata": {
        "id": "nViqFKQ2eQfV",
        "colab": {
          "base_uri": "https://localhost:8080/",
          "height": 53
        },
        "outputId": "5bc65f89-7043-4e72-df30-8ff84a8e4395"
      },
      "execution_count": null,
      "outputs": [
        {
          "name": "stdout",
          "output_type": "stream",
          "text": [
            "반지름은? 12\n"
          ]
        },
        {
          "output_type": "execute_result",
          "data": {
            "application/vnd.google.colaboratory.intrinsic+json": {
              "type": "string"
            },
            "text/plain": [
              "'12'"
            ]
          },
          "metadata": {},
          "execution_count": 44
        }
      ]
    },
    {
      "cell_type": "code",
      "source": [
        "r = input('반지름은? ')\n",
        "r = int(r)\n",
        "type(r)"
      ],
      "metadata": {
        "id": "WNIAFpLjeRzZ",
        "colab": {
          "base_uri": "https://localhost:8080/"
        },
        "outputId": "d03b0ef1-1b99-44bb-c74a-2e0fd42604c6"
      },
      "execution_count": null,
      "outputs": [
        {
          "name": "stdout",
          "output_type": "stream",
          "text": [
            "반지름은? 12\n"
          ]
        },
        {
          "output_type": "execute_result",
          "data": {
            "text/plain": [
              "int"
            ]
          },
          "metadata": {},
          "execution_count": 46
        }
      ]
    },
    {
      "cell_type": "code",
      "source": [
        "r = input('반지름은? ')\n",
        "r = int(r)\n",
        "p = 3.141592\n",
        "\n",
        "# 원의 둘레\n",
        "c_len = 2*p*r\n",
        "\n",
        "# 원의 넓이\n",
        "c_area = p*r**2\n",
        "\n",
        "# 구의 겉넓이\n",
        "s_area = 4*p*r**2\n",
        "\n",
        "# 구의 부피 \n",
        "s_volume = 4/3*p*r**3\n",
        "\n",
        "print('원의 둘레는', c_len)\n",
        "print('원의 넓이는', c_area)\n",
        "print('구의 겉넓이는', s_area)\n",
        "print('구의 부피는', s_volume)"
      ],
      "metadata": {
        "id": "YczzSexweUeT",
        "colab": {
          "base_uri": "https://localhost:8080/"
        },
        "outputId": "84c98493-1732-40bb-f9f4-dfd1541c129c"
      },
      "execution_count": null,
      "outputs": [
        {
          "output_type": "stream",
          "name": "stdout",
          "text": [
            "반지름은? 12\n",
            "원의 둘레는 75.39820800000001\n",
            "원의 넓이는 452.389248\n",
            "구의 겉넓이는 1809.556992\n",
            "구의 부피는 7238.227968\n"
          ]
        }
      ]
    },
    {
      "cell_type": "markdown",
      "source": [
        "윗 줄의 r과 아랫줄의 r은 동일하므로 두 줄을 한 줄로 줄여서 표현하기\n",
        "\n",
        "\n",
        "```\n",
        "r = input('반지름은? ')\n",
        "r = int(r)\n",
        "type(r)\n",
        "```\n",
        "\n"
      ],
      "metadata": {
        "id": "jmkqoM7meYSn"
      }
    },
    {
      "cell_type": "code",
      "source": [
        "r = int(input('반지름은? '))\n",
        "type(r)"
      ],
      "metadata": {
        "id": "Mb1n5MQueZb_",
        "colab": {
          "base_uri": "https://localhost:8080/"
        },
        "outputId": "6ec95d12-6e49-42f5-d7bf-722ac88ecbbc"
      },
      "execution_count": null,
      "outputs": [
        {
          "name": "stdout",
          "output_type": "stream",
          "text": [
            "반지름은? 12\n"
          ]
        },
        {
          "output_type": "execute_result",
          "data": {
            "text/plain": [
              "int"
            ]
          },
          "metadata": {},
          "execution_count": 48
        }
      ]
    },
    {
      "cell_type": "code",
      "source": [
        "r = int(input('반지름은? '))\n",
        "p = 3.141592\n",
        "# 원의 둘레\n",
        "c_len = 2*p*r\n",
        "# 원의 넓이\n",
        "c_area = p*r**2\n",
        "# 구의 겉넓이\n",
        "s_area = 4*p*r**2\n",
        "# 구의 부피 \n",
        "s_volume = 4/3*p*r**3\n",
        "\n",
        "print('원의 둘레는', c_len)\n",
        "print('원의 넓이는', c_area)\n",
        "print('구의 겉넓이는', s_area)\n",
        "print('구의 부피는', s_volume)"
      ],
      "metadata": {
        "id": "HNDv6x52eez6",
        "colab": {
          "base_uri": "https://localhost:8080/"
        },
        "outputId": "65eb11c5-ee58-49cb-a0ea-67c1291246db"
      },
      "execution_count": null,
      "outputs": [
        {
          "output_type": "stream",
          "name": "stdout",
          "text": [
            "반지름은? 2\n",
            "원의 둘레는 12.566368\n",
            "원의 넓이는 12.566368\n",
            "구의 겉넓이는 50.265472\n",
            "구의 부피는 33.510314666666666\n"
          ]
        }
      ]
    }
  ]
}