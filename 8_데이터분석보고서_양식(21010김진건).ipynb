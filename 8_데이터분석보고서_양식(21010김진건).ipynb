{
  "nbformat": 4,
  "nbformat_minor": 0,
  "metadata": {
    "colab": {
      "name": "8.데이터분석보고서 양식(21010김진건).ipynb",
      "provenance": [],
      "collapsed_sections": [
        "ckq8AlzKylYQ",
        "lqp3mylT_k9V",
        "nFbxGSpX0Las",
        "6Rs89CxhzNdG",
        "iV5XxaIZJKC8",
        "_8jKvuVtvbBq",
        "R7iUERFpumvS"
      ],
      "include_colab_link": true
    },
    "kernelspec": {
      "name": "python3",
      "display_name": "Python 3"
    },
    "language_info": {
      "name": "python"
    }
  },
  "cells": [
    {
      "cell_type": "markdown",
      "metadata": {
        "id": "view-in-github",
        "colab_type": "text"
      },
      "source": [
        "<a href=\"https://colab.research.google.com/github/jinny520/22JG/blob/main/8_%EB%8D%B0%EC%9D%B4%ED%84%B0%EB%B6%84%EC%84%9D%EB%B3%B4%EA%B3%A0%EC%84%9C_%EC%96%91%EC%8B%9D(21010%EA%B9%80%EC%A7%84%EA%B1%B4).ipynb\" target=\"_parent\"><img src=\"https://colab.research.google.com/assets/colab-badge.svg\" alt=\"Open In Colab\"/></a>"
      ]
    },
    {
      "cell_type": "markdown",
      "metadata": {
        "id": "r3_vbCcmFcXd"
      },
      "source": [
        "# 데이터 분석 보고서 작성하기(수행평가 30점 만점)"
      ]
    },
    {
      "cell_type": "markdown",
      "metadata": {
        "id": "8n7--cUlF6ne"
      },
      "source": [
        "1. 데이터 조사하기\n",
        "2. 질문하기\n",
        "3. 문제정의\n",
        "4. 알고리즘 설계\n",
        "5. 코드 구현\n",
        "6. 발표 자료 제작"
      ]
    },
    {
      "cell_type": "code",
      "source": [
        ""
      ],
      "metadata": {
        "id": "8vmqpdEptMDm"
      },
      "execution_count": null,
      "outputs": []
    },
    {
      "cell_type": "markdown",
      "metadata": {
        "id": "yIVAMQkuFkQp"
      },
      "source": [
        "## 1. 데이터 조사하기"
      ]
    },
    {
      "cell_type": "markdown",
      "metadata": {
        "id": "DPzzoR3MGQDk"
      },
      "source": [
        "1) 관심있는 데이터를 찾는 것부터 시작한다.<br>\n",
        "2) 공공데이터포털( http://www.data.go.kr ) 이용<br>\n",
        "3) 또는 관심 있는 분야 인터넷 검색 후 데이터 수집( https://www.kaggle.com/datasets )<br>\n",
        "4) 또는 기후 변화 관련 데이터<br>\n",
        "   ( https://data.kma.go.kr/data/gaw/selectGHGsRltmList.do?pgmNo=587 )  <br>\n",
        "5) 또는 기상청 기후정보포털 (http://www.climate.go.kr/home/) <br>\n",
        "\n"
      ]
    },
    {
      "cell_type": "code",
      "metadata": {
        "id": "pvT9rcNGz6OE"
      },
      "source": [
        "# 데이터 가져오기 코드\n",
        "# shift+enter로 실행하여 데이터 파일을 선택하세요.\n",
        "from google.colab import files\n",
        "uploaded=files.upload()"
      ],
      "execution_count": null,
      "outputs": []
    },
    {
      "cell_type": "code",
      "metadata": {
        "id": "n1SM1ywTdL1v"
      },
      "source": [
        "#한글 폰트 설정 \n",
        "!sudo apt-get install -y fonts-nanum\n",
        "!sudo fc-cache -fv\n",
        "!rm ~/.cache/matplotlib -rf\n",
        "# 폰트 설치 후 런타임 -> 런타임 다시 시작 메뉴 클릭 "
      ],
      "execution_count": null,
      "outputs": []
    },
    {
      "cell_type": "markdown",
      "metadata": {
        "id": "69HG2SgeyTNs"
      },
      "source": [
        "## 2. 데이터 속성 (수행 문제해결과정평가:라이브러리 이용 프로그램 작성)\n",
        "*   핵심 속성을 찾기 위해\n",
        "*   속성별 연관성을 발견할 수 있도록 그래프로 시각화하기\n",
        "\n",
        "\n",
        "\n",
        "\n"
      ]
    },
    {
      "cell_type": "code",
      "source": [
        "import matplotlib.pyplot as plt \n",
        "\n",
        "\n"
      ],
      "metadata": {
        "id": "ojFCeAFhybI_"
      },
      "execution_count": null,
      "outputs": []
    },
    {
      "cell_type": "markdown",
      "source": [
        "### * 핵심속성은?\n",
        "#### <font color='blue' font size=5> 여기에 작성</font>\n",
        "### * 속성의 의미와 관계 설명하기\n",
        "#### <font color='blue' font size=5> 여기에 작성</font>"
      ],
      "metadata": {
        "id": "ckq8AlzKylYQ"
      }
    },
    {
      "cell_type": "markdown",
      "metadata": {
        "id": "0vHx45cSvLis"
      },
      "source": [
        "## 3. 질문하기"
      ]
    },
    {
      "cell_type": "markdown",
      "metadata": {
        "id": "9UNLK6OW0dQu"
      },
      "source": [
        "* 관심과 흥미가 있는 데이터를 보면서 데이터가 어떤 내용을 담고 있는지, 또 어떤 내용은 담고 \n",
        "있지 않은지<br>\n",
        "* 데이터가 기록된 기간은 언제부터 언제까지인지, \n",
        "* 어떤 형태로 시각화해보면 어떤 정보를 알수 있는지 <br>\n",
        "등의 질문을 생각하면서 그 중 재미있는 질문들을 찾아내어 적어보도록 하자"
      ]
    },
    {
      "cell_type": "markdown",
      "metadata": {
        "id": "lqp3mylT_k9V"
      },
      "source": [
        "###3-1. 3가지 이상 질문 작성<br>\n",
        "##### 1)\n",
        "##### 2)\n",
        "##### 3)"
      ]
    },
    {
      "cell_type": "markdown",
      "metadata": {
        "id": "_PcZdohlRJ76"
      },
      "source": [
        "### 3-2. 데이터 관련 내용 조사"
      ]
    },
    {
      "cell_type": "markdown",
      "metadata": {
        "id": "LYIJ4lDyRJuN"
      },
      "source": [
        "* 예시) <br>\n",
        "1) 온실가스란? <br>"
      ]
    },
    {
      "cell_type": "markdown",
      "metadata": {
        "id": "L0GLCdCfal-c"
      },
      "source": [
        "## 4. 문제정의"
      ]
    },
    {
      "cell_type": "markdown",
      "metadata": {
        "id": "nFbxGSpX0Las"
      },
      "source": [
        "* 질문을 명확한 문제로 정의하기<br>\n",
        "##### 1)\n",
        "##### 2)\n",
        "##### 3)\n",
        "##### 4)\n",
        "##### 5)\n"
      ]
    },
    {
      "cell_type": "markdown",
      "metadata": {
        "id": "6Rs89CxhzNdG"
      },
      "source": [
        "### * 최종 질문 작성하기\n",
        "#### <font color='blue' font size=5> 여기에 작성</font>"
      ]
    },
    {
      "cell_type": "markdown",
      "metadata": {
        "id": "o5-DKIDCar3f"
      },
      "source": [
        "## 5. 알고리즘 설계\n"
      ]
    },
    {
      "cell_type": "markdown",
      "metadata": {
        "id": "iV5XxaIZJKC8"
      },
      "source": [
        "* 문제 해결을 위한 5단계<br>\n",
        "##### 1)\n",
        "##### 2)\n",
        "##### 3)\n",
        "##### 4)\n",
        "##### 5)"
      ]
    },
    {
      "cell_type": "markdown",
      "metadata": {
        "id": "fY0qm7oRau4a"
      },
      "source": [
        "## 6. 코드작성\n",
        "*   문제 해결을 위한 알고리즘을 코드로 구현\n",
        "\n",
        "\n",
        "\n",
        "\n"
      ]
    },
    {
      "cell_type": "code",
      "metadata": {
        "id": "CQJceIHDc98Y"
      },
      "source": [
        ""
      ],
      "execution_count": null,
      "outputs": []
    },
    {
      "cell_type": "markdown",
      "source": [
        "## 7. 소감문 작성"
      ],
      "metadata": {
        "id": "MIgG0m25wjl-"
      }
    },
    {
      "cell_type": "markdown",
      "source": [
        "1) 기계학습의 개념<br>\n",
        "*   기계학습의 개념에 대해 서술\n",
        "*   자신의 프로젝트에 사용한 기계학습 알고리즘에 대해 설명(기계학습을 적용한 경우에만 서술)\n",
        "\n"
      ],
      "metadata": {
        "id": "gNnJoqHl0pNn"
      }
    },
    {
      "cell_type": "code",
      "source": [
        ""
      ],
      "metadata": {
        "id": "rXNchQ5Pwolc"
      },
      "execution_count": null,
      "outputs": []
    },
    {
      "cell_type": "markdown",
      "source": [
        "2) 정형 데이터와 비정형 데이터<br> \n",
        "*   정형 데이터와 비정형 데이터의 개념에 대해 서술\n",
        "*   자신의 프로젝트에 사용된 자료는 정형데이터와 비정형 데이터 중 어떤 것인가요? 왜 그렇게 생각했나요?\n",
        "\n",
        "\n"
      ],
      "metadata": {
        "id": "pV5CBLaH0-ZR"
      }
    },
    {
      "cell_type": "code",
      "source": [
        ""
      ],
      "metadata": {
        "id": "fgZlPgcp1AxP"
      },
      "execution_count": null,
      "outputs": []
    },
    {
      "cell_type": "markdown",
      "source": [
        "3) 데이터와 기계학습과의 연관성에 대해 설명하세요<br>"
      ],
      "metadata": {
        "id": "wEmOnwGe1BPJ"
      }
    },
    {
      "cell_type": "code",
      "source": [
        ""
      ],
      "metadata": {
        "id": "0YA4MZ_n1Eyc"
      },
      "execution_count": null,
      "outputs": []
    },
    {
      "cell_type": "markdown",
      "source": [
        "4) 데이터 분석 활동을 하며 느낀점에 대해 서술"
      ],
      "metadata": {
        "id": "IcgQVKC51zzy"
      }
    },
    {
      "cell_type": "code",
      "source": [
        ""
      ],
      "metadata": {
        "id": "R5HvOjMl1FPL"
      },
      "execution_count": null,
      "outputs": []
    },
    {
      "cell_type": "markdown",
      "source": [
        "### * 제출안내 \n",
        "## 이 파일을 .ipynb형식으로 다운로드 받아 리로에 제출"
      ],
      "metadata": {
        "id": "_8jKvuVtvbBq"
      }
    },
    {
      "cell_type": "markdown",
      "source": [
        "### * 참고사항: 수행평가 평가기준<br>\n",
        "![평가기준.PNG](data:image/png;base64,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)"
      ],
      "metadata": {
        "id": "R7iUERFpumvS"
      }
    }
  ]
}