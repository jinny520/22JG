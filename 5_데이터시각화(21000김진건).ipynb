{
  "nbformat": 4,
  "nbformat_minor": 0,
  "metadata": {
    "colab": {
      "name": "5.데이터시각화(21000김진건).ipynb",
      "provenance": [],
      "collapsed_sections": [],
      "include_colab_link": true
    },
    "kernelspec": {
      "name": "python3",
      "display_name": "Python 3"
    }
  },
  "cells": [
    {
      "cell_type": "markdown",
      "metadata": {
        "id": "view-in-github",
        "colab_type": "text"
      },
      "source": [
        "<a href=\"https://colab.research.google.com/github/jinny520/22JG/blob/main/5_%EB%8D%B0%EC%9D%B4%ED%84%B0%EC%8B%9C%EA%B0%81%ED%99%94(21000%EA%B9%80%EC%A7%84%EA%B1%B4).ipynb\" target=\"_parent\"><img src=\"https://colab.research.google.com/assets/colab-badge.svg\" alt=\"Open In Colab\"/></a>"
      ]
    },
    {
      "cell_type": "markdown",
      "metadata": {
        "id": "jCz-YaTWWfDS"
      },
      "source": [
        "# 1. matplotlib 라이브러리\n",
        "\n",
        "> 라이브러리는 다양한 명령어를 포함하고 있다. </br>\n",
        "\n",
        "ex. operator 라이브러리 : 각종 연산자 명령어들 집합</br>\n",
        "ex. random 라이브러리 : 임의의 수를 뽑는 명령어들 집합</br>\n",
        "\n",
        "</br>\n",
        "</br>\n",
        "\n",
        "\n",
        "<img src='https://github.com/teacher-jiejie/allinone_AI/blob/images/80_%E1%84%85%E1%85%A1%E1%84%8B%E1%85%B5%E1%84%87%E1%85%B3%E1%84%85%E1%85%A5%E1%84%85%E1%85%B5.png?raw=true' width = 500>\n",
        "\n",
        "</br>\n",
        "</br>\n",
        "</br>\n",
        "\n",
        "> import 라이브러리명 as 닉네임</br>\n",
        "\n",
        "닉네임.명령어A()</br>\n",
        "닉네임.명령어B()</br>"
      ]
    },
    {
      "cell_type": "markdown",
      "metadata": {
        "id": "v7z3sy5wZZl1"
      },
      "source": [
        "매출그래프 그리기 \n",
        "\n",
        "```\n",
        "3-7월 매출\n",
        "\n",
        "3월 = 1\n",
        "4월 = 5\n",
        "5월 = 7\n",
        "6월 = 3\n",
        "7월 = 7\n",
        "```\n",
        "\n"
      ]
    },
    {
      "cell_type": "markdown",
      "metadata": {
        "id": "xoMzh3LR3xJo"
      },
      "source": [
        "### 선 그래프 그리기"
      ]
    },
    {
      "cell_type": "code",
      "metadata": {
        "id": "biyG6qVSTUnF"
      },
      "source": [
        "#코드 빠진 부분 채우기\n",
        "import  as \n",
        "\n",
        "plt.plot([1,5,7,3,7])"
      ],
      "execution_count": null,
      "outputs": []
    },
    {
      "cell_type": "code",
      "metadata": {
        "id": "Vehi9X7WuGG2"
      },
      "source": [
        "plt.plot([1,5,7,3,7])\n",
        "plt.show()"
      ],
      "execution_count": null,
      "outputs": []
    },
    {
      "cell_type": "code",
      "metadata": {
        "id": "NdQDSrMJuGLo"
      },
      "source": [
        "sales = [1,5,7,3,7]\n",
        "\n",
        "# 매출그래프\n",
        "plt.plot(sales)\n",
        "plt.show()"
      ],
      "execution_count": null,
      "outputs": []
    },
    {
      "cell_type": "markdown",
      "metadata": {
        "id": "RcA4Ybc8akoE"
      },
      "source": [
        "### x축 추가하기\n",
        "\n",
        "\n",
        "```\n",
        "plt.plot(x축, y축)\n",
        "plt.show()\n",
        "```\n",
        "\n"
      ]
    },
    {
      "cell_type": "code",
      "metadata": {
        "id": "xxcnexay1W15"
      },
      "source": [
        "# x축 추가\n",
        "mon = ['mar','apr','may','jun','jul']\n",
        "sales = [1, 5, 7, 3, 7]\n",
        "\n",
        "#코드 빠진 부분 채우기\n",
        "# X축, y축 \n",
        "plt.plot(     ,    )\n",
        "plt.show()"
      ],
      "execution_count": null,
      "outputs": []
    },
    {
      "cell_type": "markdown",
      "metadata": {
        "id": "u4SN93z85O1E"
      },
      "source": [
        "# 2. 그래프 꾸미기"
      ]
    },
    {
      "cell_type": "markdown",
      "metadata": {
        "id": "phhY2mTxa-vI"
      },
      "source": [
        "### 그래프 제목 추가하기\n",
        "\n",
        "\n",
        "```\n",
        "plt.title('제목')\n",
        "plt.plot(x축, y축)\n",
        "plt.show()\n",
        "```\n",
        "\n"
      ]
    },
    {
      "cell_type": "code",
      "metadata": {
        "id": "4a2tllq2bHqv"
      },
      "source": [
        "#영어제목\n",
        "plt.title(' ')\n",
        "plt.plot(mon, sales)\n",
        "plt.show()"
      ],
      "execution_count": null,
      "outputs": []
    },
    {
      "cell_type": "code",
      "metadata": {
        "id": "GIpv8hFY1Zd3"
      },
      "source": [
        "#한글제목\n",
        "plt.title(' ')\n",
        "plt.plot(mon, sales)\n",
        "plt.show()"
      ],
      "execution_count": null,
      "outputs": []
    },
    {
      "cell_type": "markdown",
      "metadata": {
        "id": "A9LD5PW_12OW"
      },
      "source": [
        "### 코랩에서 한글 폰트 설정\n",
        "1) 한글 폰트 코드 실행 \n",
        "\n",
        "```\n",
        "!sudo apt-get install -y fonts-nanum\n",
        "!sudo fc-cache -fv\n",
        "!rm ~/.cache/matplotlib -rf\n",
        "```\n",
        "\n",
        "2) 런타임 - 런타임 다시시작 \n",
        "\n",
        "3) 글꼴 지정 명령어 \n",
        "\n",
        "```\n",
        "plt.rc('font', family='NanumGothic')\n",
        "```\n",
        "\n"
      ]
    },
    {
      "cell_type": "code",
      "metadata": {
        "id": "z_Sl3Cpo1Zgn",
        "colab": {
          "base_uri": "https://localhost:8080/"
        },
        "outputId": "0fa5fb16-26a1-44fd-8579-616be4be78b6"
      },
      "source": [
        "# 한글 폰트 설정\n",
        "!sudo apt-get install -y fonts-nanum\n",
        "!sudo fc-cache -fv\n",
        "!rm ~/.cache/matplotlib -rf"
      ],
      "execution_count": null,
      "outputs": [
        {
          "output_type": "stream",
          "name": "stdout",
          "text": [
            "Reading package lists... Done\n",
            "Building dependency tree       \n",
            "Reading state information... Done\n",
            "fonts-nanum is already the newest version (20170925-1).\n",
            "0 upgraded, 0 newly installed, 0 to remove and 39 not upgraded.\n",
            "/usr/share/fonts: caching, new cache contents: 0 fonts, 1 dirs\n",
            "/usr/share/fonts/truetype: caching, new cache contents: 0 fonts, 3 dirs\n",
            "/usr/share/fonts/truetype/humor-sans: caching, new cache contents: 1 fonts, 0 dirs\n",
            "/usr/share/fonts/truetype/liberation: caching, new cache contents: 16 fonts, 0 dirs\n",
            "/usr/share/fonts/truetype/nanum: caching, new cache contents: 10 fonts, 0 dirs\n",
            "/usr/local/share/fonts: caching, new cache contents: 0 fonts, 0 dirs\n",
            "/root/.local/share/fonts: skipping, no such directory\n",
            "/root/.fonts: skipping, no such directory\n",
            "/var/cache/fontconfig: cleaning cache directory\n",
            "/root/.cache/fontconfig: not cleaning non-existent cache directory\n",
            "/root/.fontconfig: not cleaning non-existent cache directory\n",
            "fc-cache: succeeded\n"
          ]
        }
      ]
    },
    {
      "cell_type": "markdown",
      "metadata": {
        "id": "cA_CSdu21PLc"
      },
      "source": [
        "런타임을 재실행했으므로 변수를 다시 만들어주고, 라이브러리를 다시 import 해야 함\n",
        "\n",
        "\n",
        "```\n",
        "import matplotlib.pyplot as plt\n",
        "\n",
        "mon = ['mar','apr','may','jun','jul']\n",
        "sales = [1,5,7,3,7]\n",
        "\n",
        "# 한글 폰트 설정\n",
        "\n",
        "plt.title('월별 판매 실적')\n",
        "plt.plot(mon, sales)\n",
        "plt.show()\n",
        "```\n",
        "\n"
      ]
    },
    {
      "cell_type": "code",
      "metadata": {
        "id": "CK5BxVMS1W4e"
      },
      "source": [
        "import matplotlib.pyplot as plt\n",
        "\n",
        "mon = ['mar','apr','may','jun','jul']\n",
        "sales = [1,5,7,3,7]\n",
        "\n",
        "plt.rc('font', family='NanumGothic')\n",
        "plt.title('월별 판매 실적')\n",
        "plt.plot(mon, sales)\n",
        "plt.show()"
      ],
      "execution_count": null,
      "outputs": []
    },
    {
      "cell_type": "markdown",
      "metadata": {
        "id": "wqsdr57tbizJ"
      },
      "source": [
        "### 그래프 색상 변경\n",
        "\n",
        "\n",
        "```\n",
        "# 그래프 그리는 명령어에 color 옵션 추가\n",
        "plt.plot(x축, y축, color = 'r')\n",
        "```\n",
        "\n"
      ]
    },
    {
      "cell_type": "code",
      "metadata": {
        "id": "X5oiodjF1W7N"
      },
      "source": [
        "plt.rc('font', family='NanumGothic')\n",
        "plt.title('월별 판매 실적')\n",
        "# 그래프 색상 변경\n",
        "plt.plot(mon, sales, color =' ')\n",
        "plt.show()"
      ],
      "execution_count": null,
      "outputs": []
    },
    {
      "cell_type": "markdown",
      "metadata": {
        "id": "i7uniz-93Olm"
      },
      "source": [
        "<img src = 'https://github.com/teacher-jiejie/allinone_AI/blob/images/22_%EA%B7%B8%EB%9E%98%ED%94%84%20%EC%BB%AC%EB%9F%AC.png?raw=true' width = 500>"
      ]
    },
    {
      "cell_type": "markdown",
      "metadata": {
        "id": "R3AjOkBIb8ni"
      },
      "source": [
        "### 해상도 설정 : 그래프를 선명하게 \n",
        "\n",
        "```\n",
        "plt.figure(dpi=해상도)\n",
        "plt.title('제목')\n",
        "plt.plot(x축, y축, color = '')\n",
        "plt.show()\n",
        "```\n"
      ]
    },
    {
      "cell_type": "code",
      "metadata": {
        "id": "SecipY6Q3R1k"
      },
      "source": [
        "# 해상도 설정  \n",
        "plt.figure(dpi= )\n",
        "plt.rc('font', family='NanumGothic')\n",
        "plt.title('월별 판매 실적')\n",
        "plt.plot(mon, sales, color ='b')\n",
        "plt.show()"
      ],
      "execution_count": null,
      "outputs": []
    },
    {
      "cell_type": "markdown",
      "metadata": {
        "id": "JMWi-VCudaDM"
      },
      "source": [
        "### 범례 나타내기 \n",
        "\n",
        "\n",
        "```\n",
        "plt.plot(x축, y축, label = '범례 내용')\n",
        "plt.legend()      # 범례를 화면에 나타내기\n",
        "plt.show()\n",
        "```\n",
        "\n"
      ]
    },
    {
      "cell_type": "code",
      "metadata": {
        "id": "svj84rbv3R4O"
      },
      "source": [
        "#코드 빈칸 채우기\n",
        "plt.figure(dpi=100)\n",
        "plt.title('월별 판매 실적')\n",
        "# 범례 label\n",
        "plt.plot(mon, sales, color = 'b', label = '    ')\n",
        "# 범례를 화면에 나타내는 legend()\n",
        "plt.     \n",
        "plt.show()"
      ],
      "execution_count": null,
      "outputs": []
    },
    {
      "cell_type": "markdown",
      "metadata": {
        "id": "eZjmElRi2y4T"
      },
      "source": [
        "## 그래프 그리는 포맷\n",
        "\n",
        "\n",
        "```\n",
        "import matplotlib.pyplot as plt\n",
        "\n",
        "plt.title('그래프 제목')\n",
        "plt.plot(x축 데이터, y축 데이터)\n",
        "plt.show()\n",
        "```\n",
        "\n",
        "그래프 명령어 plt.plot()에 사용가능한 옵션\n",
        "\n",
        "```\n",
        "color = '색상이름'             \n",
        "label = '범례내용'\n",
        "```\n",
        "\n",
        "기타 사용가능한 명령어\n",
        "```\n",
        "plt.figure(dpi=150)     # 그래프 해상도 설정 \n",
        "plt.legend()            # 범례 나타내기\n",
        "```\n",
        "\n",
        "\n",
        "\n",
        "\n",
        "\n"
      ]
    },
    {
      "cell_type": "markdown",
      "metadata": {
        "id": "oHuXRLzd34dm"
      },
      "source": [
        "# 3. 다양한 그래프\n",
        "### plt.bar() : 막대그래프 - 세로형"
      ]
    },
    {
      "cell_type": "code",
      "metadata": {
        "id": "WYPB2D8T9Unu"
      },
      "source": [
        "plt.rc('font', family='NanumGothic')\n",
        "plt.title('월별 판매 실적')\n",
        "#막대그래프 그리기\n",
        "plt.bar(mon, sales)\n",
        "plt.show()"
      ],
      "execution_count": null,
      "outputs": []
    },
    {
      "cell_type": "code",
      "metadata": {
        "id": "1JsxUnGv6h-V"
      },
      "source": [
        "plt.bar(sales)\n",
        "plt.show()"
      ],
      "execution_count": null,
      "outputs": []
    },
    {
      "cell_type": "markdown",
      "metadata": {
        "id": "uIJ-1Ky3e1MD"
      },
      "source": [
        "plt.bar()는 x축 리스트, y축 리스트 두 개 모두 넣어야 한다."
      ]
    },
    {
      "cell_type": "markdown",
      "metadata": {
        "id": "L61iZcYz9YFw"
      },
      "source": [
        "### range() 사용하기"
      ]
    },
    {
      "cell_type": "code",
      "metadata": {
        "id": "4cUyKl6d2UjY"
      },
      "source": [
        "plt.rc('font', family='NanumGothic')\n",
        "plt.title('월별 판매 실적')\n",
        "plt.bar(range(3, 8), sales, color ='b')\n",
        "plt.show()"
      ],
      "execution_count": null,
      "outputs": []
    },
    {
      "cell_type": "markdown",
      "metadata": {
        "id": "1sgMxpnN9fHb"
      },
      "source": [
        "### range(시작숫자, 종료숫자, 간격)\n",
        "\n",
        "시작숫자부터 종료숫자까지 간격을 두어 숫자를 선택함 <br/>\n",
        "\n",
        "\n",
        "```\n",
        "range(2, 11, 2) \n",
        "```\n",
        "2부터 11까지 간격 2를 두고 숫자 선택\n",
        "-> 2, 4, 6, 8, 10 "
      ]
    },
    {
      "cell_type": "code",
      "metadata": {
        "id": "QXX5VB4G9fUG"
      },
      "source": [
        "plt.rc('font', family='NanumGothic')\n",
        "plt.title('월별 판매 실적')\n",
        "plt.bar(range(2, 12, 2), sales, color ='b')\n",
        "plt.show()"
      ],
      "execution_count": null,
      "outputs": []
    },
    {
      "cell_type": "markdown",
      "metadata": {
        "id": "_q8F5leMfFmr"
      },
      "source": [
        "### plt.barh() : 막대그래프 - 가로형"
      ]
    },
    {
      "cell_type": "code",
      "metadata": {
        "id": "qPXXo7Jr2Ulf"
      },
      "source": [
        "plt.rc('font', family='NanumGothic')\n",
        "plt.title('월별 판매 실적')\n",
        "plt.barh(range(3, 8), sales, color = 'hotpink')\n",
        "plt.show()"
      ],
      "execution_count": null,
      "outputs": []
    },
    {
      "cell_type": "markdown",
      "metadata": {
        "id": "LSpOVeAcgJ0e"
      },
      "source": [
        "### plt.pie() : 원그래프 \n",
        "\n",
        "\n",
        "```\n",
        "우리학교 100명의 혈액형을 조사한 결과가 다음과 같다.\n",
        "\n",
        "A형 = 28명\n",
        "B형 = 20명\n",
        "O형 = 40명\n",
        "AB형 = 12명 \n",
        "```\n",
        "\n"
      ]
    },
    {
      "cell_type": "code",
      "metadata": {
        "id": "SAVRJcNY2T3j"
      },
      "source": [
        "#코드 틀린부분 고치기\n",
        "b_type = [28, 20, 40, 12]\n",
        "\n",
        "plt.ppp(b_type)\n",
        "plt.show()"
      ],
      "execution_count": null,
      "outputs": []
    },
    {
      "cell_type": "markdown",
      "metadata": {
        "id": "-_S46po_hylb"
      },
      "source": [
        "##### 원그래프 각 항목에 라벨 붙이기 \n",
        "\n",
        "\n",
        "```\n",
        "plt.pie(리스트, labels = 라벨리스트)\n",
        "```\n",
        "\n"
      ]
    },
    {
      "cell_type": "code",
      "metadata": {
        "id": "ra2EFVAt1W9k"
      },
      "source": [
        "#코드 빈칸 채우기\n",
        "b_type = [25, 19, 37, 11]\n",
        "b_name = ['A형', 'B형', 'O형', 'AB형']\n",
        "\n",
        "plt.rc('font', family='NanumGothic')\n",
        "plt.title('혈액형 비율')\n",
        "plt.pie(b_type, labels =   )\n",
        "plt.show()"
      ],
      "execution_count": null,
      "outputs": []
    },
    {
      "cell_type": "markdown",
      "metadata": {
        "id": "tInYOLqBiA20"
      },
      "source": [
        "#### 원그래프 항목에 퍼센트 표시\n",
        "\n",
        "```\n",
        "plt.pie(리스트, labels = 라벨리스트, autopct = '%.1f%%')\n",
        "```\n",
        "\n"
      ]
    },
    {
      "cell_type": "code",
      "metadata": {
        "id": "B9NuAQi4uGOR"
      },
      "source": [
        "#코드 빈칸 채우기\n",
        "b_type = [25, 19, 37, 11]\n",
        "b_name = ['A형', 'B형', 'O형', 'AB형']\n",
        "\n",
        "plt.rc('font', family='NanumGothic')\n",
        "plt.title('혈액형 비율')\n",
        "plt.pie(b_type, labels = b_name, t='%.1f%%')\n",
        "plt.show()"
      ],
      "execution_count": null,
      "outputs": []
    },
    {
      "cell_type": "markdown",
      "metadata": {
        "id": "wNPD_4QmiK3S"
      },
      "source": [
        "### plt.scatter() : 산점도 \n",
        "\n",
        "> 국어를 잘하는 친구가 영어도 잘할까?\n",
        "\n",
        "\n",
        "```\n",
        "국어점수와 영어점수의 상관관계 알아보기\n",
        "\n",
        "kor =[80, 20, 50, 20, 10, 50, 60, 30, 60]\n",
        "eng =[90, 40, 60, 40, 10, 30, 50, 70, 90]\n",
        "```\n"
      ]
    },
    {
      "cell_type": "code",
      "metadata": {
        "id": "7M2BWKdu49qw"
      },
      "source": [
        "kor =[80, 20, 50, 20, 10, 50, 60, 30, 60]\n",
        "eng =[90, 40, 60, 40, 10, 30, 50, 70, 90]\n",
        "\n",
        "plt.scatter(kor, eng)\n",
        "plt.show()"
      ],
      "execution_count": null,
      "outputs": []
    },
    {
      "cell_type": "markdown",
      "metadata": {
        "id": "5WTso0tX1avg"
      },
      "source": [
        "<img src = 'https://github.com/teacher-jiejie/allinone_AI/blob/images/81_scatter.png?raw=true' width=800>"
      ]
    },
    {
      "cell_type": "markdown",
      "metadata": {
        "id": "UW5kHmlPi4SM"
      },
      "source": [
        "### 그래프 꾸미기 : x축 이름, y축 이름 붙이기\n",
        "\n",
        "\n",
        "```\n",
        "plt.xlabel('x축 이름')\n",
        "plt.ylabel('y축 이름')\n",
        "```\n",
        "\n"
      ]
    },
    {
      "cell_type": "code",
      "metadata": {
        "id": "o8txxthe5IKJ"
      },
      "source": [
        "#코드 빈칸 채우기(x축,y축 이름 붙이기)\n",
        "plt.figure(dpi=100)\n",
        "plt.rc('font', family='NanumGothic')\n",
        "plt.title('국어점수와 영어점수와의 상관관계')\n",
        "plt.scatter(kor, eng, c='indigo')\n",
        "plt.xlabel('    ')\n",
        "plt.ylabel('    ')\n",
        "plt.show()"
      ],
      "execution_count": null,
      "outputs": []
    },
    {
      "cell_type": "markdown",
      "metadata": {
        "id": "RXK9-hoI5IQM"
      },
      "source": [
        "# 그래프 명령어 정리 \n",
        "**그래프 그리는 포맷**\n",
        "```\n",
        "import matplotlib.pyplot as plt\n",
        "\n",
        "plt.title('그래프 제목')\n",
        "# --- 그래프 형태에 따라 알맞은 명령어 넣기 ---\n",
        "plt.show()\n",
        "```\n",
        "    \n",
        "\n",
        "**그래프 유형별 명령어**\n",
        "```\n",
        "# ---- 그래프 유형별 명령어\n",
        "# 꺾은선그래프\n",
        "plt.plot([x축 리스트], [y축 리스트])\n",
        "\n",
        "# 막대그래프 세로\n",
        "plt.bar([x축 리스트], [y축 리스트])\n",
        "\n",
        "# 막대그래프 가로\n",
        "plt.barh([x축 리스트], [y축 리스트])\n",
        "\n",
        "# 원 그래프 (x축, y축을 구분하지 않고 하나의 리스트만 넣음)\n",
        "plt.pie( [리스트], labels = [데이터 구간 이름])\n",
        "\n",
        "# 산점도\n",
        "plt.scatter([x축 리스트], [y축 리스트])\n",
        "```\n",
        "\n",
        "**그래프 명령어 내에 추가 가능한 옵션**\n",
        "\n",
        "```\n",
        "color = '색상이름' \n",
        "alpha = 투명도\n",
        "\n",
        "# plt.plot(), plt.bar(), plt.barh(), plt.scatter()는 label 사용\n",
        "label = '범례내용'\n",
        "\n",
        "# plt.pie(), plt.boxplot()은 labels 사용\n",
        "labels = [범례 리스트]\n",
        "\n",
        "# plt.pie()에 퍼센트 자동 표시\n",
        "autopct = ‘%.1f%%’\n",
        "```\n",
        "\n",
        "**기타 사용가능한 명령어**\n",
        "\n",
        "\n",
        "```\n",
        "plt.legend()            # 범례 나타내기\n",
        "plt.xlabel()            # x축 이름 붙이기\n",
        "plt.ylabel()            # y축 이름 붙이기\n",
        "```\n",
        "\n",
        "\n",
        "\n"
      ]
    },
    {
      "cell_type": "markdown",
      "source": [
        "#  오늘의 제출과제 \n",
        "아래 조건을 만족하는 프로그램을 작성하세요. 과제1, 2 중 1개 선택하여 선택하여 수행\n",
        "\n",
        "1. 아래 조건을 만족하는 프로그램을 작성하시오  \n",
        " *   꺾은선그래프, 막대그래프, 원그래프, 산점도 중 선택\n",
        " *   월별 최고기온을 시각화하기\n",
        "\n",
        "2.   matplotlib을 활용한 창의적인 코드 작성 (Bonus점수)\n",
        " * 데이터를 시각화 하는 프로그램 작성\n",
        " * 꺾은선그래프, 막대그래프, 원그래프, 산점도 중 선택  \n",
        " * print, input, 변수, 조건문, 리스트, 반복문 중 3가지 사용 \n",
        " * 수업시간에 사용한 예제는 창의적인 답변으로 인정X \n",
        "\n"
      ],
      "metadata": {
        "id": "aUvDiRW2KHgB"
      }
    },
    {
      "cell_type": "code",
      "source": [
        "#과제1 21000 김진건\n",
        "mon=[1,2,3,4,5,6,7,8,9,10,11,12]\n",
        "temp=[8.4, 11.5, 22.9, 28.2, 30.8, 31.6, 36.5, 33.6, 30.3, 28.8, 21.3, 13.3]\n",
        "\n"
      ],
      "metadata": {
        "id": "-v93oj_fLJPu"
      },
      "execution_count": null,
      "outputs": []
    },
    {
      "cell_type": "code",
      "source": [
        "#과제2 21000 김진건\n",
        "\n",
        "\n",
        "\n"
      ],
      "metadata": {
        "id": "NS1MRrxtLlUz"
      },
      "execution_count": null,
      "outputs": []
    }
  ]
}