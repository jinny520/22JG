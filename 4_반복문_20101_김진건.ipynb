{
  "nbformat": 4,
  "nbformat_minor": 0,
  "metadata": {
    "colab": {
      "name": "4.반복문_20101 김진건.ipynb",
      "provenance": [],
      "collapsed_sections": [],
      "include_colab_link": true
    },
    "kernelspec": {
      "name": "python3",
      "display_name": "Python 3"
    }
  },
  "cells": [
    {
      "cell_type": "markdown",
      "metadata": {
        "id": "view-in-github",
        "colab_type": "text"
      },
      "source": [
        "<a href=\"https://colab.research.google.com/github/jinny520/22JG/blob/main/4_%EB%B0%98%EB%B3%B5%EB%AC%B8_20101_%EA%B9%80%EC%A7%84%EA%B1%B4.ipynb\" target=\"_parent\"><img src=\"https://colab.research.google.com/assets/colab-badge.svg\" alt=\"Open In Colab\"/></a>"
      ]
    },
    {
      "cell_type": "markdown",
      "metadata": {
        "id": "UCdFsLZvKa_C"
      },
      "source": [
        "# 1. 반복문\n",
        "<img src = 'https://github.com/jinny520/22JG/blob/058ddb09976eea81a4328dcd31e0f619178825e1/imaage/1.%20for.JPG?raw=true' width=500>\n",
        "\n"
      ]
    },
    {
      "cell_type": "code",
      "metadata": {
        "id": "HyLrFLZQt46j"
      },
      "source": [
        "for a in [1,2,3,4,5] : \n",
        "    print('hi')"
      ],
      "execution_count": null,
      "outputs": []
    },
    {
      "cell_type": "markdown",
      "metadata": {
        "id": "oEfcTfzDFlqS"
      },
      "source": [
        "<img src ='https://github.com/jinny520/22JG/blob/058ddb09976eea81a4328dcd31e0f619178825e1/imaage/2.for%20ex.JPG?raw=true' width=500>"
      ]
    },
    {
      "cell_type": "code",
      "metadata": {
        "id": "IQtiqCfit48u"
      },
      "source": [
        "for a in [1,2,3,4,5] : \n",
        "    print(a, 'hi')"
      ],
      "execution_count": null,
      "outputs": []
    },
    {
      "cell_type": "markdown",
      "metadata": {
        "id": "wKvrSc-qou3A"
      },
      "source": [
        "# 2. range(시작숫자, 종료숫자)"
      ]
    },
    {
      "cell_type": "code",
      "metadata": {
        "id": "v5KMYQfk0ZVn"
      },
      "source": [
        "for a in range(1, 10) : \n",
        "    print(a, '선생님, 다시는 청소를 빼먹지 않겠습니다')"
      ],
      "execution_count": null,
      "outputs": []
    },
    {
      "cell_type": "markdown",
      "metadata": {
        "id": "y1BgbiiV1H11"
      },
      "source": [
        "> range()는 종료숫자-1 까지 포함한다"
      ]
    },
    {
      "cell_type": "code",
      "metadata": {
        "id": "tGmtMY-Z0k8p"
      },
      "source": [
        "#문장이 10번 출력되도록 range 괄호 안 숫자 채워넣기\n",
        "for a in range(1,  ) : \n",
        "    print(a, '선생님, 다시는 청소를 빼먹지 않겠습니다')"
      ],
      "execution_count": null,
      "outputs": []
    },
    {
      "cell_type": "markdown",
      "metadata": {
        "id": "_8ebt0AF1bAw"
      },
      "source": [
        "> range()에서 시작숫자가 0일 때에는 생략 가능"
      ]
    },
    {
      "cell_type": "code",
      "metadata": {
        "id": "B1X6olKc1kuJ"
      },
      "source": [
        "for a in range(10) : \n",
        "    print(a, '선생님, 다시는 청소를 빼먹지 않겠습니다')"
      ],
      "execution_count": null,
      "outputs": []
    },
    {
      "cell_type": "markdown",
      "metadata": {
        "id": "nDc1ylrt03nH"
      },
      "source": [
        "# 3. for i in data :\n",
        "일반적으로 반복문에서는 i라는 변수를 사용합니다"
      ]
    },
    {
      "cell_type": "markdown",
      "metadata": {
        "id": "uYdboDiW4n7G"
      },
      "source": [
        "1부터 50까지의 숫자의 합을 구해보자.\n",
        "ex) 1+2+3+...49+50"
      ]
    },
    {
      "cell_type": "code",
      "metadata": {
        "id": "qQGYUE-M4nZD"
      },
      "source": [
        "result = 0\n",
        "\n",
        "for i in range(1, 51) : \n",
        "    result += i\n",
        "\n",
        "print(result)"
      ],
      "execution_count": null,
      "outputs": []
    },
    {
      "cell_type": "markdown",
      "metadata": {
        "id": "ZFSryQew5TMk"
      },
      "source": [
        "숫자 하나를 입력받고, 1부터 입력받은 숫자까지의 곱을 구해보세요.\n",
        "<br/>\n",
        "ex) 5를 입력받은 경우, 1x2x3x4x5 결과 출력하기"
      ]
    },
    {
      "cell_type": "code",
      "metadata": {
        "id": "J8hgPMKC06eR"
      },
      "source": [
        "num = int(input('숫자 입력 -> '))\n",
        "result = 1\n",
        "\n",
        "for i in range(  ,  ): #빈칸채우기\n",
        "    result *= i\n",
        "\n",
        "print(result)"
      ],
      "execution_count": null,
      "outputs": []
    },
    {
      "cell_type": "markdown",
      "metadata": {
        "id": "wHPuVO9W57ym"
      },
      "source": [
        "# 4. 구구단 출력 프로그램\n",
        "4단 출력하기 <br/>\n",
        "\n",
        "```\n",
        "4 x 1 = 4\n",
        "4 x 2 = 8\n",
        "...\n",
        "4 x 8 = 32\n",
        "4 x 9 = 36\n",
        "```\n",
        "\n",
        "\n"
      ]
    },
    {
      "cell_type": "code",
      "metadata": {
        "id": "3g1T-QQw5u2b"
      },
      "source": [
        "for i in range(1, 10) : \n",
        "    print('4 x', i, '=', 4*i)"
      ],
      "execution_count": null,
      "outputs": []
    },
    {
      "cell_type": "markdown",
      "metadata": {
        "id": "v_SeRM6N7IH8"
      },
      "source": [
        "구구단 외울 단을 입력받아, 해당 숫자의 구구단을 외워봅시다.<br/>\n",
        "ex. 5를 입력받으면 5단 외우기"
      ]
    },
    {
      "cell_type": "code",
      "metadata": {
        "id": "wvdfZY6F7ChW"
      },
      "source": [
        "#코드 틀린 부분 고쳐보기\n",
        "num = int(input('몇 단을 외워볼까요? '))\n",
        "\n",
        "for i in range(1, 10) : \n",
        "    print(num, 'x', 1, '=', num*1)"
      ],
      "execution_count": null,
      "outputs": []
    },
    {
      "cell_type": "markdown",
      "metadata": {
        "id": "_uWiKA3x7tVP"
      },
      "source": [
        "# 5. 랜덤 구구단 게임 작성하기\n",
        "\n",
        "랜덤으로 곱셈문제를 내고, 답을 맞추는 게임"
      ]
    },
    {
      "cell_type": "markdown",
      "metadata": {
        "id": "1CLls7wl72Yr"
      },
      "source": [
        "\n",
        "<img src='https://github.com/jinny520/22JG/blob/058ddb09976eea81a4328dcd31e0f619178825e1/imaage/3.for_lib.JPG?raw=true' width=500>\n",
        "<br/>\n",
        "<br/>\n"
      ]
    },
    {
      "cell_type": "markdown",
      "source": [
        "\n",
        "\n",
        "<img src='https://github.com/jinny520/22JG/blob/058ddb09976eea81a4328dcd31e0f619178825e1/imaage/4.for_libuse.JPG?raw=true' width=500>\n"
      ],
      "metadata": {
        "id": "7uoMtSwcnRtG"
      }
    },
    {
      "cell_type": "code",
      "metadata": {
        "id": "dZkX0MhL7dsF"
      },
      "source": [
        "import random\n",
        "random.random()"
      ],
      "execution_count": null,
      "outputs": []
    },
    {
      "cell_type": "code",
      "metadata": {
        "id": "as2Vnvfb8eV-"
      },
      "source": [
        "help(random.random)"
      ],
      "execution_count": null,
      "outputs": []
    },
    {
      "cell_type": "code",
      "metadata": {
        "id": "TZd2F3ZE8hMs"
      },
      "source": [
        "random.randint(1, 10)"
      ],
      "execution_count": null,
      "outputs": []
    },
    {
      "cell_type": "code",
      "metadata": {
        "id": "iRxkK6oJ9PaH"
      },
      "source": [
        "help(random.randint)"
      ],
      "execution_count": null,
      "outputs": []
    },
    {
      "cell_type": "markdown",
      "metadata": {
        "id": "xH8dkBjp9g2I"
      },
      "source": [
        "구구단 게임 형식 \n",
        "\n",
        "\n",
        "```\n",
        "구구단을 외자! 구구단을 외자! \n",
        "7 x 9 ? 63\n",
        "3 x 7 ? 21\n",
        "....\n",
        "```\n",
        "\n"
      ]
    },
    {
      "cell_type": "code",
      "metadata": {
        "id": "X307OmrI9RAr"
      },
      "source": [
        "import random\n",
        "\n",
        "for i in range(5) : \n",
        "    num1 = random.randint(2, 9)\n",
        "    num2 = random.randint(1, 9)\n",
        "    print(num1, 'x', num2,'?')"
      ],
      "execution_count": null,
      "outputs": []
    },
    {
      "cell_type": "markdown",
      "metadata": {
        "id": "WWRqZgGm-ZtL"
      },
      "source": [
        "구구단 게임에 입력칸을 만들어주자!"
      ]
    },
    {
      "cell_type": "code",
      "metadata": {
        "id": "RMtCyLNw-Xii"
      },
      "source": [
        "import random\n",
        "\n",
        "for i in range(5) : \n",
        "    num1 = random.randint(2, 9)\n",
        "    num2 = random.randint(1, 9)\n",
        "    question = str(num1)+' x '+str(num2)+' ? '\n",
        "    input(question)"
      ],
      "execution_count": null,
      "outputs": []
    },
    {
      "cell_type": "markdown",
      "metadata": {
        "id": "yhW5H934_Lw6"
      },
      "source": [
        "# 6. 반복문 안의 조건문\n",
        "랜덤 구구단 게임에서 입력된 답이 틀렸을 때, '땡! 정답은 00입니다' 출력하기"
      ]
    },
    {
      "cell_type": "code",
      "metadata": {
        "id": "7n-5WOkm-p0w"
      },
      "source": [
        "for i in range(5) : \n",
        "    num1 = random.randint(2, 9)\n",
        "    num2 = random.randint(1, 9)\n",
        "    question = str(num1)+' x '+str(num2)+' ? '\n",
        "    # 입력된 답을 변수에 저장하기\n",
        "    int(input(question))\n",
        "\n",
        "    if answer != num1*num2 : \n",
        "        print('땡! 정답은', num1*num2)"
      ],
      "execution_count": null,
      "outputs": []
    },
    {
      "cell_type": "markdown",
      "metadata": {
        "id": "-bbMjsKVyY4B"
      },
      "source": [
        "> 이차원리스트 반복 원리\n",
        "\n",
        "<img src = 'https://github.com/jinny520/22JG/blob/e1ba57f88b0b691cc2cb6a1617349725042bd761/imaage/5.for_2.PNG?raw=true' width=800>"
      ]
    },
    {
      "cell_type": "code",
      "source": [
        "abc = [[1,2,3], [4,5,6], [7,8,9]]\n",
        "\n",
        "for row in abc : \n",
        "    print(row)"
      ],
      "metadata": {
        "id": "k76RTiXQVNfF"
      },
      "execution_count": null,
      "outputs": []
    },
    {
      "cell_type": "code",
      "source": [
        "# 모든 줄의 첫번째 데이터만 출력\n",
        "for row in abc : \n",
        "    print(row[0])"
      ],
      "metadata": {
        "id": "q-IIYfbgUepo"
      },
      "execution_count": null,
      "outputs": []
    },
    {
      "cell_type": "code",
      "source": [
        "# 모든 줄의 마지막 데이터(세번째 열)만 출력\n",
        "for row in abc : \n",
        "    print(row[ ])"
      ],
      "metadata": {
        "id": "zM7Y5BuYUjev"
      },
      "execution_count": null,
      "outputs": []
    },
    {
      "cell_type": "markdown",
      "source": [
        "# 5. 오늘의 제출 과제 \n",
        "*   과제1 또는 과제 2 중 하나만 수행하면 됩니다\n",
        "\n",
        "*   제출방법\n",
        "  1. 맨 위 파일 제목을 자신의 학번이름으로 수정해주세요 \n",
        "  2. 오늘의 과제 수행\n",
        "  3. Ctrl + s 눌러서 저장 \n",
        "  4. [파일]-[다운로드]-[.ipynb ] 선택\n",
        "  5. 과제 제출창 --> 파일선택  --> 다운로드 탭--></br>\n",
        "   [3.리스트_21000_김진건] 파일 첨부 --> </br>\n",
        "   제출자칸에 학번이름 써서 제출"
      ],
      "metadata": {
        "id": "C9urO0pM-9uk"
      }
    },
    {
      "cell_type": "code",
      "source": [
        "#과제1\n",
        "\n"
      ],
      "metadata": {
        "id": "1OuucJGw--86"
      },
      "execution_count": null,
      "outputs": []
    },
    {
      "cell_type": "code",
      "source": [
        "#과제2\n",
        "\n"
      ],
      "metadata": {
        "id": "JrTeIyRQ_AWQ"
      },
      "execution_count": null,
      "outputs": []
    }
  ]
}